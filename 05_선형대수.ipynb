{
  "nbformat": 4,
  "nbformat_minor": 0,
  "metadata": {
    "colab": {
      "name": "05_선형대수.ipynb",
      "provenance": [],
      "collapsed_sections": [],
      "authorship_tag": "ABX9TyPHUdbIbLrT4MpL3XZO51kE",
      "include_colab_link": true
    },
    "kernelspec": {
      "name": "python3",
      "display_name": "Python 3"
    },
    "language_info": {
      "name": "python"
    }
  },
  "cells": [
    {
      "cell_type": "markdown",
      "metadata": {
        "id": "view-in-github",
        "colab_type": "text"
      },
      "source": [
        "<a href=\"https://colab.research.google.com/github/ssongplay/Manufacturing-System-lab/blob/main/05_%EC%84%A0%ED%98%95%EB%8C%80%EC%88%98.ipynb\" target=\"_parent\"><img src=\"https://colab.research.google.com/assets/colab-badge.svg\" alt=\"Open In Colab\"/></a>"
      ]
    },
    {
      "cell_type": "markdown",
      "source": [
        "# Linear Algebra"
      ],
      "metadata": {
        "id": "TkKkSWemPO6v"
      }
    },
    {
      "cell_type": "code",
      "execution_count": 1,
      "metadata": {
        "id": "3hqF_Vp9xn2D"
      },
      "outputs": [],
      "source": [
        "import numpy as np\n",
        "import matplotlib.pyplot as plt"
      ]
    },
    {
      "cell_type": "markdown",
      "source": [
        "# vector\n",
        "- 방향과 크기를 갖는 직선\n",
        "- 행이나 열 형태로 되어있는 실수 집합"
      ],
      "metadata": {
        "id": "m1MqTxFzTZZT"
      }
    },
    {
      "cell_type": "code",
      "source": [
        "lst = [1, 3, 2]\n",
        "vec = np.array(lst)\n",
        "print(vec)\n",
        "print(type(vec))"
      ],
      "metadata": {
        "colab": {
          "base_uri": "https://localhost:8080/"
        },
        "id": "5SW92UqaPSrV",
        "outputId": "096c0a60-1440-44b6-b4f9-b6def7457e6a"
      },
      "execution_count": 2,
      "outputs": [
        {
          "output_type": "stream",
          "name": "stdout",
          "text": [
            "[1 3 2]\n",
            "<class 'numpy.ndarray'>\n"
          ]
        }
      ]
    },
    {
      "cell_type": "code",
      "source": [
        "# 벡터 스칼라곱\n",
        "vec*10"
      ],
      "metadata": {
        "colab": {
          "base_uri": "https://localhost:8080/"
        },
        "id": "EknqptsYPYuz",
        "outputId": "98e50c72-4c7f-4e84-c17a-ce6069509aa1"
      },
      "execution_count": 3,
      "outputs": [
        {
          "output_type": "execute_result",
          "data": {
            "text/plain": [
              "array([10, 30, 20])"
            ]
          },
          "metadata": {},
          "execution_count": 3
        }
      ]
    },
    {
      "cell_type": "code",
      "source": [
        "# 벡터 덧셈\n",
        "x = np.array([1, 3, 5])\n",
        "y = np.array([2, -1, 0])\n",
        "print(x+y)"
      ],
      "metadata": {
        "colab": {
          "base_uri": "https://localhost:8080/"
        },
        "id": "u9dPJ8RvPcOP",
        "outputId": "ab4f3c2f-a3d7-4e74-a877-56843a9fab4a"
      },
      "execution_count": 4,
      "outputs": [
        {
          "output_type": "stream",
          "name": "stdout",
          "text": [
            "[3 2 5]\n"
          ]
        }
      ]
    },
    {
      "cell_type": "code",
      "source": [
        "plt.xlim(0, 10)\n",
        "plt.ylim(0, 10)\n",
        "\n",
        "ax = plt.axes()\n",
        "ax.arrow(0, 0, 4, 2)\n",
        "ax.arrow(0, 0, 1, 3)\n",
        "ax.arrow(0, 0, 5, 5)"
      ],
      "metadata": {
        "colab": {
          "base_uri": "https://localhost:8080/",
          "height": 346
        },
        "id": "rO5gmqPRPnmF",
        "outputId": "57a6351b-ae8b-4843-f455-1c3c78345b70"
      },
      "execution_count": 5,
      "outputs": [
        {
          "output_type": "stream",
          "name": "stderr",
          "text": [
            "/usr/local/lib/python3.7/dist-packages/ipykernel_launcher.py:4: MatplotlibDeprecationWarning: Adding an axes using the same arguments as a previous axes currently reuses the earlier instance.  In a future version, a new instance will always be created and returned.  Meanwhile, this warning can be suppressed, and the future behavior ensured, by passing a unique label to each axes instance.\n",
            "  after removing the cwd from sys.path.\n"
          ]
        },
        {
          "output_type": "execute_result",
          "data": {
            "text/plain": [
              "<matplotlib.patches.FancyArrow at 0x7f1b839a01d0>"
            ]
          },
          "metadata": {},
          "execution_count": 5
        },
        {
          "output_type": "display_data",
          "data": {
            "text/plain": [
              "<Figure size 432x288 with 1 Axes>"
            ],
            "image/png": "[encoded data removed]"
          },
          "metadata": {
            "needs_background": "light"
          }
        }
      ]
    },
    {
      "cell_type": "code",
      "source": [
        "plt.xlim(0, 10)\n",
        "plt.ylim(0, 10)\n",
        "\n",
        "vec1 = np.array([4, 2])\n",
        "vec2 = np.array([1, 3])\n",
        "vec3 = vec1 + vec2\n",
        "\n",
        "ax = plt.axes()\n",
        "ax.arrow(0,0,vec1[0],vec1[1],head_length = .5, head_width = .5)\n",
        "ax.arrow(0,0,vec2[0],vec2[1],head_length = .5, head_width = .5)\n",
        "ax.arrow(0,0,vec3[0],vec3[1],head_length = .5, head_width = .5, ec = \"red\", fc=\"red\")\n",
        "\n",
        "plt.grid()\n",
        "plt.xlim(0,10)\n",
        "plt.ylim(0,10)\n",
        "plt.show()"
      ],
      "metadata": {
        "colab": {
          "base_uri": "https://localhost:8080/",
          "height": 327
        },
        "id": "iNCcJZ2lPs6J",
        "outputId": "c8afa3c2-6e69-4f9a-d5c4-afc89437c2d0"
      },
      "execution_count": 6,
      "outputs": [
        {
          "output_type": "stream",
          "name": "stderr",
          "text": [
            "/usr/local/lib/python3.7/dist-packages/ipykernel_launcher.py:8: MatplotlibDeprecationWarning: Adding an axes using the same arguments as a previous axes currently reuses the earlier instance.  In a future version, a new instance will always be created and returned.  Meanwhile, this warning can be suppressed, and the future behavior ensured, by passing a unique label to each axes instance.\n",
            "  \n"
          ]
        },
        {
          "output_type": "display_data",
          "data": {
            "text/plain": [
              "<Figure size 432x288 with 1 Axes>"
            ],
            "image/png": "[encoded data removed]"
          },
          "metadata": {
            "needs_background": "light"
          }
        }
      ]
    },
    {
      "cell_type": "code",
      "source": [
        "# 벡터의 길이 구하기\n",
        "\n",
        "x = np.array([3, 5])\n",
        "y = np.array([1, 2])"
      ],
      "metadata": {
        "id": "wvk67dwlQQkp"
      },
      "execution_count": 7,
      "outputs": []
    },
    {
      "cell_type": "code",
      "source": [
        "import math \n",
        "length = math.sqrt((3-1)**2 + (5-2)**2)\n",
        "print(length)"
      ],
      "metadata": {
        "colab": {
          "base_uri": "https://localhost:8080/"
        },
        "id": "qX03I7LmQfBh",
        "outputId": "17a49fb0-567c-4582-e15c-7819f05ab7b9"
      },
      "execution_count": 8,
      "outputs": [
        {
          "output_type": "stream",
          "name": "stdout",
          "text": [
            "3.605551275463989\n"
          ]
        }
      ]
    },
    {
      "cell_type": "markdown",
      "source": [
        "# 벡터의 각\n",
        "- 벡터의 각은 곧 두 벡터간의 관계\n",
        "- 두 벡터가 이루는 각이 90° or 270° ▶️ 서로 독립적인 벡터\n",
        "- 두 벡터가 이루는 각이 0° or 180° ▶️ 서로 관계가 깊은 벡터\n",
        "- cos  θ를 통해 벡터간의 관계를 파악 가능\n"
      ],
      "metadata": {
        "id": "pF9aWDuzug2q"
      }
    },
    {
      "cell_type": "code",
      "source": [
        "x = np.array([0, 4])\n",
        "y = np.array([5, 0])\n",
        "\n",
        "np.dot(x, y)"
      ],
      "metadata": {
        "colab": {
          "base_uri": "https://localhost:8080/"
        },
        "id": "N89PALbEQrLw",
        "outputId": "edffbab5-9aa5-41ed-86dd-a25367c6eb00"
      },
      "execution_count": 9,
      "outputs": [
        {
          "output_type": "execute_result",
          "data": {
            "text/plain": [
              "0"
            ]
          },
          "metadata": {},
          "execution_count": 9
        }
      ]
    },
    {
      "cell_type": "code",
      "source": [
        "cos_theta = np.dot(x,y)/(math.sqrt(3**2+5**1)*math.sqrt(1**2+2**1))\n",
        "print(cos_theta) \n",
        "# cos_theta = 0 -> 서로 독립적인 벡터!"
      ],
      "metadata": {
        "colab": {
          "base_uri": "https://localhost:8080/"
        },
        "id": "4A1ytSxHRcNU",
        "outputId": "9f7c50e3-0792-429a-dbdf-bdc6a54235a2"
      },
      "execution_count": 10,
      "outputs": [
        {
          "output_type": "stream",
          "name": "stdout",
          "text": [
            "0.0\n"
          ]
        }
      ]
    },
    {
      "cell_type": "code",
      "source": [
        "a = np.array([2, 4])\n",
        "b = np.array([3, 1])\n",
        "La = math.sqrt(a[0]**2 + a[1]**2)\n",
        "Lb = math.sqrt(b[0]**2 + b[1]**2)"
      ],
      "metadata": {
        "id": "NA5I9HfwT2Y3"
      },
      "execution_count": 11,
      "outputs": []
    },
    {
      "cell_type": "code",
      "source": [
        "La * Lb * math.cos(math.radians(270))"
      ],
      "metadata": {
        "colab": {
          "base_uri": "https://localhost:8080/"
        },
        "id": "Scv7XVROVRgV",
        "outputId": "538d7f44-3286-44f2-d05a-839eb39f9154"
      },
      "execution_count": 12,
      "outputs": [
        {
          "output_type": "execute_result",
          "data": {
            "text/plain": [
              "-2.59786816870648e-15"
            ]
          },
          "metadata": {},
          "execution_count": 12
        }
      ]
    },
    {
      "cell_type": "code",
      "source": [
        "np.dot(a,b)"
      ],
      "metadata": {
        "colab": {
          "base_uri": "https://localhost:8080/"
        },
        "id": "QbGh06ZJVWO0",
        "outputId": "f3a8dcc4-ee74-4173-e645-604daf1c1680"
      },
      "execution_count": 13,
      "outputs": [
        {
          "output_type": "execute_result",
          "data": {
            "text/plain": [
              "10"
            ]
          },
          "metadata": {},
          "execution_count": 13
        }
      ]
    },
    {
      "cell_type": "code",
      "source": [
        "import numpy as np\n",
        "import matplotlib.pyplot as plt\n",
        "\n",
        "result = np.array(980*[0], dtype=np.float64)\n",
        "\n",
        "for i in range(980):\n",
        "  result[i] =  math.cos(math.radians(i))"
      ],
      "metadata": {
        "id": "bhswzjQ8Vaxc"
      },
      "execution_count": 14,
      "outputs": []
    },
    {
      "cell_type": "code",
      "source": [
        "plt.plot(result, 'r-')\n",
        "horizon = np.array([0.7 for i in range(980)])\n",
        "plt.plot(horizon, 'b-')"
      ],
      "metadata": {
        "colab": {
          "base_uri": "https://localhost:8080/",
          "height": 285
        },
        "id": "n6_fjGFfV_rh",
        "outputId": "7acba057-6fcd-468b-a462-909667a20a72"
      },
      "execution_count": 15,
      "outputs": [
        {
          "output_type": "execute_result",
          "data": {
            "text/plain": [
              "[<matplotlib.lines.Line2D at 0x7f1b83477f10>]"
            ]
          },
          "metadata": {},
          "execution_count": 15
        },
        {
          "output_type": "display_data",
          "data": {
            "text/plain": [
              "<Figure size 432x288 with 1 Axes>"
            ],
            "image/png": "[encoded data removed]"
          },
          "metadata": {
            "needs_background": "light"
          }
        }
      ]
    },
    {
      "cell_type": "markdown",
      "source": [
        "# transpose"
      ],
      "metadata": {
        "id": "O3FOyyL7xwKc"
      }
    },
    {
      "cell_type": "code",
      "source": [
        "A = np.array([[7, 2], [0, 1], [3, 4]], dtype=float)\n",
        "print(A)\n",
        "trA = np.transpose(A)\n",
        "print(trA)"
      ],
      "metadata": {
        "colab": {
          "base_uri": "https://localhost:8080/"
        },
        "id": "kqHI1cKbWnnM",
        "outputId": "ceff11e6-5fba-46a9-cf32-dbc330cebc2f"
      },
      "execution_count": 16,
      "outputs": [
        {
          "output_type": "stream",
          "name": "stdout",
          "text": [
            "[[7. 2.]\n",
            " [0. 1.]\n",
            " [3. 4.]]\n",
            "[[7. 0. 3.]\n",
            " [2. 1. 4.]]\n"
          ]
        }
      ]
    },
    {
      "cell_type": "code",
      "source": [
        "A = np.array([[7, 2], [0, 1], [3, 4]], dtype=float)\n",
        "B = np.array([[4, 5], [1, 3], [-1, 4]])\n",
        "np.transpose(A+B)"
      ],
      "metadata": {
        "colab": {
          "base_uri": "https://localhost:8080/"
        },
        "id": "RXv2RRyxWwfV",
        "outputId": "e905dac9-9584-4fbf-d5c9-30e29227051a"
      },
      "execution_count": 17,
      "outputs": [
        {
          "output_type": "execute_result",
          "data": {
            "text/plain": [
              "array([[11.,  1.,  2.],\n",
              "       [ 7.,  4.,  8.]])"
            ]
          },
          "metadata": {},
          "execution_count": 17
        }
      ]
    },
    {
      "cell_type": "code",
      "source": [
        "A_square = np.dot(np.transpose(A),A)\n",
        "print(A_square)"
      ],
      "metadata": {
        "colab": {
          "base_uri": "https://localhost:8080/"
        },
        "id": "gDvavgAdW5GD",
        "outputId": "f84593d2-0de6-418f-d68e-ef06b08531b0"
      },
      "execution_count": 18,
      "outputs": [
        {
          "output_type": "stream",
          "name": "stdout",
          "text": [
            "[[58. 26.]\n",
            " [26. 21.]]\n"
          ]
        }
      ]
    },
    {
      "cell_type": "markdown",
      "source": [
        "# determinant (행렬식)\n",
        "-  volume of a matrix\n",
        "- 행렬식은 행렬의 역생렬 존재를 확인하는 도구로써 활용\n"
      ],
      "metadata": {
        "id": "0DwFtUugx1B9"
      }
    },
    {
      "cell_type": "code",
      "source": [
        "a = np.array([[1, 2], [3, 4]])\n",
        "np.linalg.det(a)"
      ],
      "metadata": {
        "colab": {
          "base_uri": "https://localhost:8080/"
        },
        "id": "gmm3E_V9W_df",
        "outputId": "ec8655cc-84e6-4017-d88e-52e695365ca9"
      },
      "execution_count": 19,
      "outputs": [
        {
          "output_type": "execute_result",
          "data": {
            "text/plain": [
              "-2.0000000000000004"
            ]
          },
          "metadata": {},
          "execution_count": 19
        }
      ]
    },
    {
      "cell_type": "code",
      "source": [
        "np.linalg.det(A_square)"
      ],
      "metadata": {
        "colab": {
          "base_uri": "https://localhost:8080/"
        },
        "id": "yucfXGOLXUxS",
        "outputId": "287afd9d-539f-4106-9228-485faf585dbe"
      },
      "execution_count": 20,
      "outputs": [
        {
          "output_type": "execute_result",
          "data": {
            "text/plain": [
              "542.0000000000001"
            ]
          },
          "metadata": {},
          "execution_count": 20
        }
      ]
    },
    {
      "cell_type": "markdown",
      "source": [
        "# inverse (역행렬)\n",
        "- 역수는 어떤 숫자가 곱했을 때 자기 자신(즉, 항등원)인 1이 나오게 하는 수 \n",
        "- 행렬에서는 역행렬이 그런 역할을 해줌\n",
        "- 나누기의 역할을 위한 행렬\n",
        "- 행렬의 항등원은 I (대각행렬이 1로만 채워진 행렬)\n",
        "- 선형방정식을 푸는 데에 활용"
      ],
      "metadata": {
        "id": "G4rfIUO0yFN1"
      }
    },
    {
      "cell_type": "code",
      "source": [
        "a = np.array([[1, 2], [3, 4]])\n",
        "print(a)\n",
        "b = np.linalg.inv(a)\n",
        "print(b)"
      ],
      "metadata": {
        "colab": {
          "base_uri": "https://localhost:8080/"
        },
        "id": "kmqemJM5XWvd",
        "outputId": "c258e4f7-4f2d-4b2d-f7a1-cc83c8aedfee"
      },
      "execution_count": 21,
      "outputs": [
        {
          "output_type": "stream",
          "name": "stdout",
          "text": [
            "[[1 2]\n",
            " [3 4]]\n",
            "[[-2.   1. ]\n",
            " [ 1.5 -0.5]]\n"
          ]
        }
      ]
    },
    {
      "cell_type": "code",
      "source": [
        "np.dot(a, b)"
      ],
      "metadata": {
        "colab": {
          "base_uri": "https://localhost:8080/"
        },
        "id": "5wqOf0rUXiwk",
        "outputId": "43611c8e-45df-4307-c1d1-712078c01887"
      },
      "execution_count": 22,
      "outputs": [
        {
          "output_type": "execute_result",
          "data": {
            "text/plain": [
              "array([[1.0000000e+00, 0.0000000e+00],\n",
              "       [8.8817842e-16, 1.0000000e+00]])"
            ]
          },
          "metadata": {},
          "execution_count": 22
        }
      ]
    },
    {
      "cell_type": "markdown",
      "source": [
        "# 벡터의 노름 (norm)\n",
        "- '거리'\n",
        "- 벡터 혹은 행렬의 크기를 표현하는 단위\n",
        "- 벡터나 매트릭스는 크기나 강도, 대표값 등을 알기가 어려운데, 이런 것들을 하나의 값으로 정의해서 파악하기 위함"
      ],
      "metadata": {
        "id": "ffUhWE3u0Y5o"
      }
    },
    {
      "cell_type": "code",
      "source": [
        "v = np.array([1, 2, 1])\n",
        "np.linalg.norm(v, ord=2)"
      ],
      "metadata": {
        "colab": {
          "base_uri": "https://localhost:8080/"
        },
        "id": "n8KSoYqoXlAV",
        "outputId": "7b23591f-77f9-4fb5-f03e-9a8d79aeb145"
      },
      "execution_count": 23,
      "outputs": [
        {
          "output_type": "execute_result",
          "data": {
            "text/plain": [
              "2.449489742783178"
            ]
          },
          "metadata": {},
          "execution_count": 23
        }
      ]
    },
    {
      "cell_type": "code",
      "source": [
        "p = np.array([[2,3], [4, 2]])\n",
        "print(p)\n",
        "np.linalg.norm(p, ord=2)"
      ],
      "metadata": {
        "colab": {
          "base_uri": "https://localhost:8080/"
        },
        "id": "7AxtfJ0xYcC_",
        "outputId": "575fae3c-51b2-49b9-fffa-02e39126638d"
      },
      "execution_count": 24,
      "outputs": [
        {
          "output_type": "stream",
          "name": "stdout",
          "text": [
            "[[2 3]\n",
            " [4 2]]\n"
          ]
        },
        {
          "output_type": "execute_result",
          "data": {
            "text/plain": [
              "5.561552812808832"
            ]
          },
          "metadata": {},
          "execution_count": 24
        }
      ]
    },
    {
      "cell_type": "markdown",
      "source": [
        "# 고유값과 고유벡터 (eigenvalue & eigenvector)\n",
        "- Av = λv\n",
        "- 고유값 분해 A = vλv^(-1)\n",
        "- 행렬의 다양한 연산을 손쉽게 계산 가능\n",
        "- PCA를 이해할 수 있게 해줌 (데이터를 효과적으로 축약해주는 방식)"
      ],
      "metadata": {
        "id": "Lq6Jh7oJ1CEm"
      }
    },
    {
      "cell_type": "code",
      "source": [
        "mat = np.array([[5, 25, 35], [25, 155, 175], [35, 175, 325]])\n",
        "print(mat)"
      ],
      "metadata": {
        "colab": {
          "base_uri": "https://localhost:8080/"
        },
        "id": "hREVDhbgYoET",
        "outputId": "5d84e766-c161-49b6-ad52-24515043e461"
      },
      "execution_count": 25,
      "outputs": [
        {
          "output_type": "stream",
          "name": "stdout",
          "text": [
            "[[  5  25  35]\n",
            " [ 25 155 175]\n",
            " [ 35 175 325]]\n"
          ]
        }
      ]
    },
    {
      "cell_type": "code",
      "source": [
        "w, v = np.linalg.eig(mat)"
      ],
      "metadata": {
        "id": "3woh2l2ZZA7f"
      },
      "execution_count": 26,
      "outputs": []
    },
    {
      "cell_type": "code",
      "source": [
        "# eigenvalue\n",
        "w"
      ],
      "metadata": {
        "colab": {
          "base_uri": "https://localhost:8080/"
        },
        "id": "3g-JXiTUZDTw",
        "outputId": "5bdf3bd8-a267-4b18-f5c0-3c8eaa7dc9c7"
      },
      "execution_count": 27,
      "outputs": [
        {
          "output_type": "execute_result",
          "data": {
            "text/plain": [
              "array([438.79976395,   0.5997152 ,  45.60052085])"
            ]
          },
          "metadata": {},
          "execution_count": 27
        }
      ]
    },
    {
      "cell_type": "code",
      "source": [
        "# eigenvectors\n",
        "v"
      ],
      "metadata": {
        "colab": {
          "base_uri": "https://localhost:8080/"
        },
        "id": "zlBd7Qx1ZFIN",
        "outputId": "e6926d57-9b5b-4d77-b1e5-f4f69bf323ba"
      },
      "execution_count": 28,
      "outputs": [
        {
          "output_type": "execute_result",
          "data": {
            "text/plain": [
              "array([[ 0.09848966,  0.99346579, -0.05766723],\n",
              "       [ 0.52858691, -0.10132496, -0.84281026],\n",
              "       [ 0.84314629, -0.05252595,  0.53511248]])"
            ]
          },
          "metadata": {},
          "execution_count": 28
        }
      ]
    },
    {
      "cell_type": "markdown",
      "source": [
        "# PCA\n",
        "- 대표적인 Eigenvalue Decomposition 응용\n",
        "- 대표적인 Feature Extraction 기법\n",
        "- 상관관계가 있는 변수들을 활용하여 새로운 변수를 만듦(선형결합을 통해)"
      ],
      "metadata": {
        "id": "zHuB89x110XA"
      }
    },
    {
      "cell_type": "code",
      "source": [
        "from sklearn.datasets import load_iris\n",
        "from sklearn.decomposition import PCA"
      ],
      "metadata": {
        "id": "snxnd6lWZFV4"
      },
      "execution_count": 29,
      "outputs": []
    },
    {
      "cell_type": "code",
      "source": [
        "X, y = load_iris(return_X_y=True)"
      ],
      "metadata": {
        "id": "rfCwQwlvZjKC"
      },
      "execution_count": 30,
      "outputs": []
    },
    {
      "cell_type": "code",
      "source": [
        "print(y)"
      ],
      "metadata": {
        "colab": {
          "base_uri": "https://localhost:8080/"
        },
        "id": "w1-fNgnuZlgD",
        "outputId": "dc0dcbf5-5935-42b1-eb31-06a91e80652a"
      },
      "execution_count": 31,
      "outputs": [
        {
          "output_type": "stream",
          "name": "stdout",
          "text": [
            "[0 0 0 0 0 0 0 0 0 0 0 0 0 0 0 0 0 0 0 0 0 0 0 0 0 0 0 0 0 0 0 0 0 0 0 0 0\n",
            " 0 0 0 0 0 0 0 0 0 0 0 0 0 1 1 1 1 1 1 1 1 1 1 1 1 1 1 1 1 1 1 1 1 1 1 1 1\n",
            " 1 1 1 1 1 1 1 1 1 1 1 1 1 1 1 1 1 1 1 1 1 1 1 1 1 1 2 2 2 2 2 2 2 2 2 2 2\n",
            " 2 2 2 2 2 2 2 2 2 2 2 2 2 2 2 2 2 2 2 2 2 2 2 2 2 2 2 2 2 2 2 2 2 2 2 2 2\n",
            " 2 2]\n"
          ]
        }
      ]
    },
    {
      "cell_type": "code",
      "source": [
        "pca = PCA(2)  # 2개의 주성분으로 요약\n",
        "pca.fit(X)  # 선형 변환\n",
        "pca.explained_variance_  # 새로 요약된 변수의 분산 설명력 (즉, 정보의 설명량)"
      ],
      "metadata": {
        "colab": {
          "base_uri": "https://localhost:8080/"
        },
        "id": "wc8TZqircXls",
        "outputId": "e02407b2-b09e-4d57-80c7-52b9e99d9b9b"
      },
      "execution_count": 32,
      "outputs": [
        {
          "output_type": "execute_result",
          "data": {
            "text/plain": [
              "array([4.22824171, 0.24267075])"
            ]
          },
          "metadata": {},
          "execution_count": 32
        }
      ]
    },
    {
      "cell_type": "code",
      "source": [
        "z = pca.transform(X)"
      ],
      "metadata": {
        "id": "QV7trbE1dsC4"
      },
      "execution_count": 33,
      "outputs": []
    },
    {
      "cell_type": "code",
      "source": [
        "plt.scatter(X[:,0], X[:,1])"
      ],
      "metadata": {
        "colab": {
          "base_uri": "https://localhost:8080/",
          "height": 287
        },
        "id": "ckRDyJ2-dz8G",
        "outputId": "ec77fd6b-9c88-4249-b9d1-fce2343b148c"
      },
      "execution_count": 34,
      "outputs": [
        {
          "output_type": "execute_result",
          "data": {
            "text/plain": [
              "<matplotlib.collections.PathCollection at 0x7f1b6fa83410>"
            ]
          },
          "metadata": {},
          "execution_count": 34
        },
        {
          "output_type": "display_data",
          "data": {
            "text/plain": [
              "<Figure size 432x288 with 1 Axes>"
            ],
            "image/png": "[encoded data removed]"
          },
          "metadata": {
            "needs_background": "light"
          }
        }
      ]
    },
    {
      "cell_type": "code",
      "source": [
        "plt.scatter(z[:,0], z[:,1])"
      ],
      "metadata": {
        "colab": {
          "base_uri": "https://localhost:8080/",
          "height": 288
        },
        "id": "sTHim_aadvdf",
        "outputId": "404cf5cb-5efe-4685-d49a-70a87de89a90"
      },
      "execution_count": 35,
      "outputs": [
        {
          "output_type": "execute_result",
          "data": {
            "text/plain": [
              "<matplotlib.collections.PathCollection at 0x7f1b6fa54350>"
            ]
          },
          "metadata": {},
          "execution_count": 35
        },
        {
          "output_type": "display_data",
          "data": {
            "text/plain": [
              "<Figure size 432x288 with 1 Axes>"
            ],
            "image/png": "[encoded data removed]"
          },
          "metadata": {
            "needs_background": "light"
          }
        }
      ]
    }
  ]
}