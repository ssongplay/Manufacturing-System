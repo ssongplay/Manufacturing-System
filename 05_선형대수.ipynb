{
  "nbformat": 4,
  "nbformat_minor": 0,
  "metadata": {
    "colab": {
      "name": "05_선형대수.ipynb",
      "provenance": [],
      "collapsed_sections": [],
      "authorship_tag": "ABX9TyMEoLr1eRyL+OXEQXvYs4bm",
      "include_colab_link": true
    },
    "kernelspec": {
      "name": "python3",
      "display_name": "Python 3"
    },
    "language_info": {
      "name": "python"
    }
  },
  "cells": [
    {
      "cell_type": "markdown",
      "metadata": {
        "id": "view-in-github",
        "colab_type": "text"
      },
      "source": [
        "<a href=\"https://colab.research.google.com/github/ssongplay/Manufacturing-System-lab/blob/main/05_%EC%84%A0%ED%98%95%EB%8C%80%EC%88%98.ipynb\" target=\"_parent\"><img src=\"https://colab.research.google.com/assets/colab-badge.svg\" alt=\"Open In Colab\"/></a>"
      ]
    },
    {
      "cell_type": "markdown",
      "source": [
        "# Linear Algebra"
      ],
      "metadata": {
        "id": "TkKkSWemPO6v"
      }
    },
    {
      "cell_type": "code",
      "execution_count": null,
      "metadata": {
        "id": "3hqF_Vp9xn2D"
      },
      "outputs": [],
      "source": [
        "import numpy as np"
      ]
    },
    {
      "cell_type": "code",
      "source": [
        "lst = [1, 3, 2]\n",
        "vec = np.array(lst)\n",
        "print(vec)\n",
        "print(type(vec))"
      ],
      "metadata": {
        "colab": {
          "base_uri": "https://localhost:8080/"
        },
        "id": "5SW92UqaPSrV",
        "outputId": "6c8597c9-80de-4a8d-f5a9-fe1a61180ed2"
      },
      "execution_count": null,
      "outputs": [
        {
          "output_type": "stream",
          "name": "stdout",
          "text": [
            "[1 3 2]\n",
            "<class 'numpy.ndarray'>\n"
          ]
        }
      ]
    },
    {
      "cell_type": "code",
      "source": [
        "vec*10"
      ],
      "metadata": {
        "colab": {
          "base_uri": "https://localhost:8080/"
        },
        "id": "EknqptsYPYuz",
        "outputId": "fea67803-edf4-4a4e-a83f-5b0854b50602"
      },
      "execution_count": null,
      "outputs": [
        {
          "output_type": "execute_result",
          "data": {
            "text/plain": [
              "array([10, 30, 20])"
            ]
          },
          "metadata": {},
          "execution_count": 3
        }
      ]
    },
    {
      "cell_type": "code",
      "source": [
        "x = np.array([1, 3, 5])\n",
        "y = np.array([2, -1, 0])\n",
        "print(x+y)"
      ],
      "metadata": {
        "colab": {
          "base_uri": "https://localhost:8080/"
        },
        "id": "u9dPJ8RvPcOP",
        "outputId": "96618dc4-42d0-4338-e020-b720a90d8635"
      },
      "execution_count": null,
      "outputs": [
        {
          "output_type": "stream",
          "name": "stdout",
          "text": [
            "[3 2 5]\n"
          ]
        }
      ]
    },
    {
      "cell_type": "code",
      "source": [
        "import matplotlib.pyplot as plt"
      ],
      "metadata": {
        "id": "oWRFgdvNPk-1"
      },
      "execution_count": null,
      "outputs": []
    },
    {
      "cell_type": "code",
      "source": [
        "plt.xlim(0, 10)\n",
        "plt.ylim(0, 10)\n",
        "\n",
        "ax = plt.axes()\n",
        "ax.arrow(0, 0, 4, 2)\n",
        "ax.arrow(0, 0, 1, 3)\n",
        "ax.arrow(0, 0, 5, 5)"
      ],
      "metadata": {
        "colab": {
          "base_uri": "https://localhost:8080/",
          "height": 346
        },
        "id": "rO5gmqPRPnmF",
        "outputId": "6f5ffaf9-1f9e-434e-fe1c-e2916dca8f2e"
      },
      "execution_count": null,
      "outputs": [
        {
          "output_type": "stream",
          "name": "stderr",
          "text": [
            "/usr/local/lib/python3.7/dist-packages/ipykernel_launcher.py:4: MatplotlibDeprecationWarning: Adding an axes using the same arguments as a previous axes currently reuses the earlier instance.  In a future version, a new instance will always be created and returned.  Meanwhile, this warning can be suppressed, and the future behavior ensured, by passing a unique label to each axes instance.\n",
            "  after removing the cwd from sys.path.\n"
          ]
        },
        {
          "output_type": "execute_result",
          "data": {
            "text/plain": [
              "<matplotlib.patches.FancyArrow at 0x7f61c9036510>"
            ]
          },
          "metadata": {},
          "execution_count": 6
        },
        {
          "output_type": "display_data",
          "data": {
            "text/plain": [
              "<Figure size 432x288 with 1 Axes>"
            ],
            "image/png": "[encoded data removed]"
          },
          "metadata": {
            "needs_background": "light"
          }
        }
      ]
    },
    {
      "cell_type": "code",
      "source": [
        "plt.xlim(0, 10)\n",
        "plt.ylim(0, 10)\n",
        "\n",
        "vec1 = np.array([4, 2])\n",
        "vec2 = np.array([1, 3])\n",
        "vec3 = vec1 + vec2\n",
        "\n",
        "ax = plt.axes()\n",
        "ax.arrow(0, 0, vec1[0], vec1[1])\n",
        "ax.arrow(0, 0, vec2[0], vec2[1])\n",
        "ax.arrow(0, 0, vec3[0], vec3[1], ec='red')"
      ],
      "metadata": {
        "colab": {
          "base_uri": "https://localhost:8080/",
          "height": 346
        },
        "id": "iNCcJZ2lPs6J",
        "outputId": "90b3eb2e-c8db-4333-b5f2-b5dcf2254fa0"
      },
      "execution_count": null,
      "outputs": [
        {
          "output_type": "stream",
          "name": "stderr",
          "text": [
            "/usr/local/lib/python3.7/dist-packages/ipykernel_launcher.py:8: MatplotlibDeprecationWarning: Adding an axes using the same arguments as a previous axes currently reuses the earlier instance.  In a future version, a new instance will always be created and returned.  Meanwhile, this warning can be suppressed, and the future behavior ensured, by passing a unique label to each axes instance.\n",
            "  \n"
          ]
        },
        {
          "output_type": "execute_result",
          "data": {
            "text/plain": [
              "<matplotlib.patches.FancyArrow at 0x7f61c8b90410>"
            ]
          },
          "metadata": {},
          "execution_count": 7
        },
        {
          "output_type": "display_data",
          "data": {
            "text/plain": [
              "<Figure size 432x288 with 1 Axes>"
            ],
            "image/png": "[encoded data removed]"
          },
          "metadata": {
            "needs_background": "light"
          }
        }
      ]
    },
    {
      "cell_type": "code",
      "source": [
        "# norm 구하기\n",
        "\n",
        "x = np.array([3, 5])\n",
        "y = np.array([1, 2])"
      ],
      "metadata": {
        "id": "wvk67dwlQQkp"
      },
      "execution_count": null,
      "outputs": []
    },
    {
      "cell_type": "code",
      "source": [
        "import math \n",
        "length = math.sqrt((3-1)**2 + (5-2)**2)\n",
        "print(length)\n",
        "length**2"
      ],
      "metadata": {
        "colab": {
          "base_uri": "https://localhost:8080/"
        },
        "id": "qX03I7LmQfBh",
        "outputId": "a0afb764-08eb-4558-c9b9-bfa83ba54730"
      },
      "execution_count": null,
      "outputs": [
        {
          "output_type": "stream",
          "name": "stdout",
          "text": [
            "3.605551275463989\n"
          ]
        },
        {
          "output_type": "execute_result",
          "data": {
            "text/plain": [
              "12.999999999999998"
            ]
          },
          "metadata": {},
          "execution_count": 9
        }
      ]
    },
    {
      "cell_type": "code",
      "source": [
        "x = np.array([0, 4])\n",
        "y = np.array([5, 0])\n",
        "\n",
        "np.dot(x, y)"
      ],
      "metadata": {
        "colab": {
          "base_uri": "https://localhost:8080/"
        },
        "id": "N89PALbEQrLw",
        "outputId": "07537010-73ad-41d7-e5b7-c34a135ebebb"
      },
      "execution_count": null,
      "outputs": [
        {
          "output_type": "execute_result",
          "data": {
            "text/plain": [
              "0"
            ]
          },
          "metadata": {},
          "execution_count": 10
        }
      ]
    },
    {
      "cell_type": "code",
      "source": [
        "x = np.array([3, 5])\n",
        "y = np.array([1, 2])\n",
        "np.dot(x, y)"
      ],
      "metadata": {
        "colab": {
          "base_uri": "https://localhost:8080/"
        },
        "id": "sQN7tSQIRXlW",
        "outputId": "0cb86d31-09b0-43b8-bc5d-16306ee6df49"
      },
      "execution_count": null,
      "outputs": [
        {
          "output_type": "execute_result",
          "data": {
            "text/plain": [
              "13"
            ]
          },
          "metadata": {},
          "execution_count": 11
        }
      ]
    },
    {
      "cell_type": "code",
      "source": [
        "cos_theta = np.dot(x,y)/(math.sqrt(3**2+5**1)*math.sqrt(1**2+2**1))\n",
        "print(cos_theta)"
      ],
      "metadata": {
        "colab": {
          "base_uri": "https://localhost:8080/"
        },
        "id": "4A1ytSxHRcNU",
        "outputId": "9fa5ef76-0830-4309-f912-3c29e1053cae"
      },
      "execution_count": null,
      "outputs": [
        {
          "output_type": "stream",
          "name": "stdout",
          "text": [
            "2.005943549507195\n"
          ]
        }
      ]
    },
    {
      "cell_type": "code",
      "source": [
        "a = np.array([2, 4])\n",
        "b = np.array([3, 1])\n",
        "La = math.sqrt(a[0]**2 + a[1]**2)\n",
        "Lb = math.sqrt(b[0]**2 + b[1]**2)"
      ],
      "metadata": {
        "id": "NA5I9HfwT2Y3"
      },
      "execution_count": null,
      "outputs": []
    },
    {
      "cell_type": "code",
      "source": [
        "La * Lb * math.cos(math.radians(70))"
      ],
      "metadata": {
        "colab": {
          "base_uri": "https://localhost:8080/"
        },
        "id": "Scv7XVROVRgV",
        "outputId": "c5ff9d37-8f94-41e5-a5e2-7876c19cb6d6"
      },
      "execution_count": null,
      "outputs": [
        {
          "output_type": "execute_result",
          "data": {
            "text/plain": [
              "4.836895252959508"
            ]
          },
          "metadata": {},
          "execution_count": 14
        }
      ]
    },
    {
      "cell_type": "code",
      "source": [
        "np.dot(a,b)"
      ],
      "metadata": {
        "colab": {
          "base_uri": "https://localhost:8080/"
        },
        "id": "QbGh06ZJVWO0",
        "outputId": "aae58c27-805e-49b0-8182-be5d9a78ac45"
      },
      "execution_count": null,
      "outputs": [
        {
          "output_type": "execute_result",
          "data": {
            "text/plain": [
              "10"
            ]
          },
          "metadata": {},
          "execution_count": 15
        }
      ]
    },
    {
      "cell_type": "code",
      "source": [
        "import numpy as np\n",
        "import matplotlib.pyplot as plt\n",
        "\n",
        "result = np.array(980*[0], dtype=np.float64)\n",
        "\n",
        "for i in range(980):\n",
        "  result[i] =  math.cos(math.radians(i))\n",
        "\n",
        "print(result)"
      ],
      "metadata": {
        "colab": {
          "base_uri": "https://localhost:8080/"
        },
        "id": "bhswzjQ8Vaxc",
        "outputId": "fed88d4a-9bf9-4028-9d2b-534a2fde409b"
      },
      "execution_count": null,
      "outputs": [
        {
          "output_type": "stream",
          "name": "stdout",
          "text": [
            "[ 1.00000000e+00  9.99847695e-01  9.99390827e-01  9.98629535e-01\n",
            "  9.97564050e-01  9.96194698e-01  9.94521895e-01  9.92546152e-01\n",
            "  9.90268069e-01  9.87688341e-01  9.84807753e-01  9.81627183e-01\n",
            "  9.78147601e-01  9.74370065e-01  9.70295726e-01  9.65925826e-01\n",
            "  9.61261696e-01  9.56304756e-01  9.51056516e-01  9.45518576e-01\n",
            "  9.39692621e-01  9.33580426e-01  9.27183855e-01  9.20504853e-01\n",
            "  9.13545458e-01  9.06307787e-01  8.98794046e-01  8.91006524e-01\n",
            "  8.82947593e-01  8.74619707e-01  8.66025404e-01  8.57167301e-01\n",
            "  8.48048096e-01  8.38670568e-01  8.29037573e-01  8.19152044e-01\n",
            "  8.09016994e-01  7.98635510e-01  7.88010754e-01  7.77145961e-01\n",
            "  7.66044443e-01  7.54709580e-01  7.43144825e-01  7.31353702e-01\n",
            "  7.19339800e-01  7.07106781e-01  6.94658370e-01  6.81998360e-01\n",
            "  6.69130606e-01  6.56059029e-01  6.42787610e-01  6.29320391e-01\n",
            "  6.15661475e-01  6.01815023e-01  5.87785252e-01  5.73576436e-01\n",
            "  5.59192903e-01  5.44639035e-01  5.29919264e-01  5.15038075e-01\n",
            "  5.00000000e-01  4.84809620e-01  4.69471563e-01  4.53990500e-01\n",
            "  4.38371147e-01  4.22618262e-01  4.06736643e-01  3.90731128e-01\n",
            "  3.74606593e-01  3.58367950e-01  3.42020143e-01  3.25568154e-01\n",
            "  3.09016994e-01  2.92371705e-01  2.75637356e-01  2.58819045e-01\n",
            "  2.41921896e-01  2.24951054e-01  2.07911691e-01  1.90808995e-01\n",
            "  1.73648178e-01  1.56434465e-01  1.39173101e-01  1.21869343e-01\n",
            "  1.04528463e-01  8.71557427e-02  6.97564737e-02  5.23359562e-02\n",
            "  3.48994967e-02  1.74524064e-02  6.12323400e-17 -1.74524064e-02\n",
            " -3.48994967e-02 -5.23359562e-02 -6.97564737e-02 -8.71557427e-02\n",
            " -1.04528463e-01 -1.21869343e-01 -1.39173101e-01 -1.56434465e-01\n",
            " -1.73648178e-01 -1.90808995e-01 -2.07911691e-01 -2.24951054e-01\n",
            " -2.41921896e-01 -2.58819045e-01 -2.75637356e-01 -2.92371705e-01\n",
            " -3.09016994e-01 -3.25568154e-01 -3.42020143e-01 -3.58367950e-01\n",
            " -3.74606593e-01 -3.90731128e-01 -4.06736643e-01 -4.22618262e-01\n",
            " -4.38371147e-01 -4.53990500e-01 -4.69471563e-01 -4.84809620e-01\n",
            " -5.00000000e-01 -5.15038075e-01 -5.29919264e-01 -5.44639035e-01\n",
            " -5.59192903e-01 -5.73576436e-01 -5.87785252e-01 -6.01815023e-01\n",
            " -6.15661475e-01 -6.29320391e-01 -6.42787610e-01 -6.56059029e-01\n",
            " -6.69130606e-01 -6.81998360e-01 -6.94658370e-01 -7.07106781e-01\n",
            " -7.19339800e-01 -7.31353702e-01 -7.43144825e-01 -7.54709580e-01\n",
            " -7.66044443e-01 -7.77145961e-01 -7.88010754e-01 -7.98635510e-01\n",
            " -8.09016994e-01 -8.19152044e-01 -8.29037573e-01 -8.38670568e-01\n",
            " -8.48048096e-01 -8.57167301e-01 -8.66025404e-01 -8.74619707e-01\n",
            " -8.82947593e-01 -8.91006524e-01 -8.98794046e-01 -9.06307787e-01\n",
            " -9.13545458e-01 -9.20504853e-01 -9.27183855e-01 -9.33580426e-01\n",
            " -9.39692621e-01 -9.45518576e-01 -9.51056516e-01 -9.56304756e-01\n",
            " -9.61261696e-01 -9.65925826e-01 -9.70295726e-01 -9.74370065e-01\n",
            " -9.78147601e-01 -9.81627183e-01 -9.84807753e-01 -9.87688341e-01\n",
            " -9.90268069e-01 -9.92546152e-01 -9.94521895e-01 -9.96194698e-01\n",
            " -9.97564050e-01 -9.98629535e-01 -9.99390827e-01 -9.99847695e-01\n",
            " -1.00000000e+00 -9.99847695e-01 -9.99390827e-01 -9.98629535e-01\n",
            " -9.97564050e-01 -9.96194698e-01 -9.94521895e-01 -9.92546152e-01\n",
            " -9.90268069e-01 -9.87688341e-01 -9.84807753e-01 -9.81627183e-01\n",
            " -9.78147601e-01 -9.74370065e-01 -9.70295726e-01 -9.65925826e-01\n",
            " -9.61261696e-01 -9.56304756e-01 -9.51056516e-01 -9.45518576e-01\n",
            " -9.39692621e-01 -9.33580426e-01 -9.27183855e-01 -9.20504853e-01\n",
            " -9.13545458e-01 -9.06307787e-01 -8.98794046e-01 -8.91006524e-01\n",
            " -8.82947593e-01 -8.74619707e-01 -8.66025404e-01 -8.57167301e-01\n",
            " -8.48048096e-01 -8.38670568e-01 -8.29037573e-01 -8.19152044e-01\n",
            " -8.09016994e-01 -7.98635510e-01 -7.88010754e-01 -7.77145961e-01\n",
            " -7.66044443e-01 -7.54709580e-01 -7.43144825e-01 -7.31353702e-01\n",
            " -7.19339800e-01 -7.07106781e-01 -6.94658370e-01 -6.81998360e-01\n",
            " -6.69130606e-01 -6.56059029e-01 -6.42787610e-01 -6.29320391e-01\n",
            " -6.15661475e-01 -6.01815023e-01 -5.87785252e-01 -5.73576436e-01\n",
            " -5.59192903e-01 -5.44639035e-01 -5.29919264e-01 -5.15038075e-01\n",
            " -5.00000000e-01 -4.84809620e-01 -4.69471563e-01 -4.53990500e-01\n",
            " -4.38371147e-01 -4.22618262e-01 -4.06736643e-01 -3.90731128e-01\n",
            " -3.74606593e-01 -3.58367950e-01 -3.42020143e-01 -3.25568154e-01\n",
            " -3.09016994e-01 -2.92371705e-01 -2.75637356e-01 -2.58819045e-01\n",
            " -2.41921896e-01 -2.24951054e-01 -2.07911691e-01 -1.90808995e-01\n",
            " -1.73648178e-01 -1.56434465e-01 -1.39173101e-01 -1.21869343e-01\n",
            " -1.04528463e-01 -8.71557427e-02 -6.97564737e-02 -5.23359562e-02\n",
            " -3.48994967e-02 -1.74524064e-02 -1.83697020e-16  1.74524064e-02\n",
            "  3.48994967e-02  5.23359562e-02  6.97564737e-02  8.71557427e-02\n",
            "  1.04528463e-01  1.21869343e-01  1.39173101e-01  1.56434465e-01\n",
            "  1.73648178e-01  1.90808995e-01  2.07911691e-01  2.24951054e-01\n",
            "  2.41921896e-01  2.58819045e-01  2.75637356e-01  2.92371705e-01\n",
            "  3.09016994e-01  3.25568154e-01  3.42020143e-01  3.58367950e-01\n",
            "  3.74606593e-01  3.90731128e-01  4.06736643e-01  4.22618262e-01\n",
            "  4.38371147e-01  4.53990500e-01  4.69471563e-01  4.84809620e-01\n",
            "  5.00000000e-01  5.15038075e-01  5.29919264e-01  5.44639035e-01\n",
            "  5.59192903e-01  5.73576436e-01  5.87785252e-01  6.01815023e-01\n",
            "  6.15661475e-01  6.29320391e-01  6.42787610e-01  6.56059029e-01\n",
            "  6.69130606e-01  6.81998360e-01  6.94658370e-01  7.07106781e-01\n",
            "  7.19339800e-01  7.31353702e-01  7.43144825e-01  7.54709580e-01\n",
            "  7.66044443e-01  7.77145961e-01  7.88010754e-01  7.98635510e-01\n",
            "  8.09016994e-01  8.19152044e-01  8.29037573e-01  8.38670568e-01\n",
            "  8.48048096e-01  8.57167301e-01  8.66025404e-01  8.74619707e-01\n",
            "  8.82947593e-01  8.91006524e-01  8.98794046e-01  9.06307787e-01\n",
            "  9.13545458e-01  9.20504853e-01  9.27183855e-01  9.33580426e-01\n",
            "  9.39692621e-01  9.45518576e-01  9.51056516e-01  9.56304756e-01\n",
            "  9.61261696e-01  9.65925826e-01  9.70295726e-01  9.74370065e-01\n",
            "  9.78147601e-01  9.81627183e-01  9.84807753e-01  9.87688341e-01\n",
            "  9.90268069e-01  9.92546152e-01  9.94521895e-01  9.96194698e-01\n",
            "  9.97564050e-01  9.98629535e-01  9.99390827e-01  9.99847695e-01\n",
            "  1.00000000e+00  9.99847695e-01  9.99390827e-01  9.98629535e-01\n",
            "  9.97564050e-01  9.96194698e-01  9.94521895e-01  9.92546152e-01\n",
            "  9.90268069e-01  9.87688341e-01  9.84807753e-01  9.81627183e-01\n",
            "  9.78147601e-01  9.74370065e-01  9.70295726e-01  9.65925826e-01\n",
            "  9.61261696e-01  9.56304756e-01  9.51056516e-01  9.45518576e-01\n",
            "  9.39692621e-01  9.33580426e-01  9.27183855e-01  9.20504853e-01\n",
            "  9.13545458e-01  9.06307787e-01  8.98794046e-01  8.91006524e-01\n",
            "  8.82947593e-01  8.74619707e-01  8.66025404e-01  8.57167301e-01\n",
            "  8.48048096e-01  8.38670568e-01  8.29037573e-01  8.19152044e-01\n",
            "  8.09016994e-01  7.98635510e-01  7.88010754e-01  7.77145961e-01\n",
            "  7.66044443e-01  7.54709580e-01  7.43144825e-01  7.31353702e-01\n",
            "  7.19339800e-01  7.07106781e-01  6.94658370e-01  6.81998360e-01\n",
            "  6.69130606e-01  6.56059029e-01  6.42787610e-01  6.29320391e-01\n",
            "  6.15661475e-01  6.01815023e-01  5.87785252e-01  5.73576436e-01\n",
            "  5.59192903e-01  5.44639035e-01  5.29919264e-01  5.15038075e-01\n",
            "  5.00000000e-01  4.84809620e-01  4.69471563e-01  4.53990500e-01\n",
            "  4.38371147e-01  4.22618262e-01  4.06736643e-01  3.90731128e-01\n",
            "  3.74606593e-01  3.58367950e-01  3.42020143e-01  3.25568154e-01\n",
            "  3.09016994e-01  2.92371705e-01  2.75637356e-01  2.58819045e-01\n",
            "  2.41921896e-01  2.24951054e-01  2.07911691e-01  1.90808995e-01\n",
            "  1.73648178e-01  1.56434465e-01  1.39173101e-01  1.21869343e-01\n",
            "  1.04528463e-01  8.71557427e-02  6.97564737e-02  5.23359562e-02\n",
            "  3.48994967e-02  1.74524064e-02  3.06161700e-16 -1.74524064e-02\n",
            " -3.48994967e-02 -5.23359562e-02 -6.97564737e-02 -8.71557427e-02\n",
            " -1.04528463e-01 -1.21869343e-01 -1.39173101e-01 -1.56434465e-01\n",
            " -1.73648178e-01 -1.90808995e-01 -2.07911691e-01 -2.24951054e-01\n",
            " -2.41921896e-01 -2.58819045e-01 -2.75637356e-01 -2.92371705e-01\n",
            " -3.09016994e-01 -3.25568154e-01 -3.42020143e-01 -3.58367950e-01\n",
            " -3.74606593e-01 -3.90731128e-01 -4.06736643e-01 -4.22618262e-01\n",
            " -4.38371147e-01 -4.53990500e-01 -4.69471563e-01 -4.84809620e-01\n",
            " -5.00000000e-01 -5.15038075e-01 -5.29919264e-01 -5.44639035e-01\n",
            " -5.59192903e-01 -5.73576436e-01 -5.87785252e-01 -6.01815023e-01\n",
            " -6.15661475e-01 -6.29320391e-01 -6.42787610e-01 -6.56059029e-01\n",
            " -6.69130606e-01 -6.81998360e-01 -6.94658370e-01 -7.07106781e-01\n",
            " -7.19339800e-01 -7.31353702e-01 -7.43144825e-01 -7.54709580e-01\n",
            " -7.66044443e-01 -7.77145961e-01 -7.88010754e-01 -7.98635510e-01\n",
            " -8.09016994e-01 -8.19152044e-01 -8.29037573e-01 -8.38670568e-01\n",
            " -8.48048096e-01 -8.57167301e-01 -8.66025404e-01 -8.74619707e-01\n",
            " -8.82947593e-01 -8.91006524e-01 -8.98794046e-01 -9.06307787e-01\n",
            " -9.13545458e-01 -9.20504853e-01 -9.27183855e-01 -9.33580426e-01\n",
            " -9.39692621e-01 -9.45518576e-01 -9.51056516e-01 -9.56304756e-01\n",
            " -9.61261696e-01 -9.65925826e-01 -9.70295726e-01 -9.74370065e-01\n",
            " -9.78147601e-01 -9.81627183e-01 -9.84807753e-01 -9.87688341e-01\n",
            " -9.90268069e-01 -9.92546152e-01 -9.94521895e-01 -9.96194698e-01\n",
            " -9.97564050e-01 -9.98629535e-01 -9.99390827e-01 -9.99847695e-01\n",
            " -1.00000000e+00 -9.99847695e-01 -9.99390827e-01 -9.98629535e-01\n",
            " -9.97564050e-01 -9.96194698e-01 -9.94521895e-01 -9.92546152e-01\n",
            " -9.90268069e-01 -9.87688341e-01 -9.84807753e-01 -9.81627183e-01\n",
            " -9.78147601e-01 -9.74370065e-01 -9.70295726e-01 -9.65925826e-01\n",
            " -9.61261696e-01 -9.56304756e-01 -9.51056516e-01 -9.45518576e-01\n",
            " -9.39692621e-01 -9.33580426e-01 -9.27183855e-01 -9.20504853e-01\n",
            " -9.13545458e-01 -9.06307787e-01 -8.98794046e-01 -8.91006524e-01\n",
            " -8.82947593e-01 -8.74619707e-01 -8.66025404e-01 -8.57167301e-01\n",
            " -8.48048096e-01 -8.38670568e-01 -8.29037573e-01 -8.19152044e-01\n",
            " -8.09016994e-01 -7.98635510e-01 -7.88010754e-01 -7.77145961e-01\n",
            " -7.66044443e-01 -7.54709580e-01 -7.43144825e-01 -7.31353702e-01\n",
            " -7.19339800e-01 -7.07106781e-01 -6.94658370e-01 -6.81998360e-01\n",
            " -6.69130606e-01 -6.56059029e-01 -6.42787610e-01 -6.29320391e-01\n",
            " -6.15661475e-01 -6.01815023e-01 -5.87785252e-01 -5.73576436e-01\n",
            " -5.59192903e-01 -5.44639035e-01 -5.29919264e-01 -5.15038075e-01\n",
            " -5.00000000e-01 -4.84809620e-01 -4.69471563e-01 -4.53990500e-01\n",
            " -4.38371147e-01 -4.22618262e-01 -4.06736643e-01 -3.90731128e-01\n",
            " -3.74606593e-01 -3.58367950e-01 -3.42020143e-01 -3.25568154e-01\n",
            " -3.09016994e-01 -2.92371705e-01 -2.75637356e-01 -2.58819045e-01\n",
            " -2.41921896e-01 -2.24951054e-01 -2.07911691e-01 -1.90808995e-01\n",
            " -1.73648178e-01 -1.56434465e-01 -1.39173101e-01 -1.21869343e-01\n",
            " -1.04528463e-01 -8.71557427e-02 -6.97564737e-02 -5.23359562e-02\n",
            " -3.48994967e-02 -1.74524064e-02 -4.28626380e-16  1.74524064e-02\n",
            "  3.48994967e-02  5.23359562e-02  6.97564737e-02  8.71557427e-02\n",
            "  1.04528463e-01  1.21869343e-01  1.39173101e-01  1.56434465e-01\n",
            "  1.73648178e-01  1.90808995e-01  2.07911691e-01  2.24951054e-01\n",
            "  2.41921896e-01  2.58819045e-01  2.75637356e-01  2.92371705e-01\n",
            "  3.09016994e-01  3.25568154e-01  3.42020143e-01  3.58367950e-01\n",
            "  3.74606593e-01  3.90731128e-01  4.06736643e-01  4.22618262e-01\n",
            "  4.38371147e-01  4.53990500e-01  4.69471563e-01  4.84809620e-01\n",
            "  5.00000000e-01  5.15038075e-01  5.29919264e-01  5.44639035e-01\n",
            "  5.59192903e-01  5.73576436e-01  5.87785252e-01  6.01815023e-01\n",
            "  6.15661475e-01  6.29320391e-01  6.42787610e-01  6.56059029e-01\n",
            "  6.69130606e-01  6.81998360e-01  6.94658370e-01  7.07106781e-01\n",
            "  7.19339800e-01  7.31353702e-01  7.43144825e-01  7.54709580e-01\n",
            "  7.66044443e-01  7.77145961e-01  7.88010754e-01  7.98635510e-01\n",
            "  8.09016994e-01  8.19152044e-01  8.29037573e-01  8.38670568e-01\n",
            "  8.48048096e-01  8.57167301e-01  8.66025404e-01  8.74619707e-01\n",
            "  8.82947593e-01  8.91006524e-01  8.98794046e-01  9.06307787e-01\n",
            "  9.13545458e-01  9.20504853e-01  9.27183855e-01  9.33580426e-01\n",
            "  9.39692621e-01  9.45518576e-01  9.51056516e-01  9.56304756e-01\n",
            "  9.61261696e-01  9.65925826e-01  9.70295726e-01  9.74370065e-01\n",
            "  9.78147601e-01  9.81627183e-01  9.84807753e-01  9.87688341e-01\n",
            "  9.90268069e-01  9.92546152e-01  9.94521895e-01  9.96194698e-01\n",
            "  9.97564050e-01  9.98629535e-01  9.99390827e-01  9.99847695e-01\n",
            "  1.00000000e+00  9.99847695e-01  9.99390827e-01  9.98629535e-01\n",
            "  9.97564050e-01  9.96194698e-01  9.94521895e-01  9.92546152e-01\n",
            "  9.90268069e-01  9.87688341e-01  9.84807753e-01  9.81627183e-01\n",
            "  9.78147601e-01  9.74370065e-01  9.70295726e-01  9.65925826e-01\n",
            "  9.61261696e-01  9.56304756e-01  9.51056516e-01  9.45518576e-01\n",
            "  9.39692621e-01  9.33580426e-01  9.27183855e-01  9.20504853e-01\n",
            "  9.13545458e-01  9.06307787e-01  8.98794046e-01  8.91006524e-01\n",
            "  8.82947593e-01  8.74619707e-01  8.66025404e-01  8.57167301e-01\n",
            "  8.48048096e-01  8.38670568e-01  8.29037573e-01  8.19152044e-01\n",
            "  8.09016994e-01  7.98635510e-01  7.88010754e-01  7.77145961e-01\n",
            "  7.66044443e-01  7.54709580e-01  7.43144825e-01  7.31353702e-01\n",
            "  7.19339800e-01  7.07106781e-01  6.94658370e-01  6.81998360e-01\n",
            "  6.69130606e-01  6.56059029e-01  6.42787610e-01  6.29320391e-01\n",
            "  6.15661475e-01  6.01815023e-01  5.87785252e-01  5.73576436e-01\n",
            "  5.59192903e-01  5.44639035e-01  5.29919264e-01  5.15038075e-01\n",
            "  5.00000000e-01  4.84809620e-01  4.69471563e-01  4.53990500e-01\n",
            "  4.38371147e-01  4.22618262e-01  4.06736643e-01  3.90731128e-01\n",
            "  3.74606593e-01  3.58367950e-01  3.42020143e-01  3.25568154e-01\n",
            "  3.09016994e-01  2.92371705e-01  2.75637356e-01  2.58819045e-01\n",
            "  2.41921896e-01  2.24951054e-01  2.07911691e-01  1.90808995e-01\n",
            "  1.73648178e-01  1.56434465e-01  1.39173101e-01  1.21869343e-01\n",
            "  1.04528463e-01  8.71557427e-02  6.97564737e-02  5.23359562e-02\n",
            "  3.48994967e-02  1.74524064e-02  5.51091060e-16 -1.74524064e-02\n",
            " -3.48994967e-02 -5.23359562e-02 -6.97564737e-02 -8.71557427e-02\n",
            " -1.04528463e-01 -1.21869343e-01 -1.39173101e-01 -1.56434465e-01\n",
            " -1.73648178e-01 -1.90808995e-01 -2.07911691e-01 -2.24951054e-01\n",
            " -2.41921896e-01 -2.58819045e-01 -2.75637356e-01 -2.92371705e-01\n",
            " -3.09016994e-01 -3.25568154e-01 -3.42020143e-01 -3.58367950e-01\n",
            " -3.74606593e-01 -3.90731128e-01 -4.06736643e-01 -4.22618262e-01\n",
            " -4.38371147e-01 -4.53990500e-01 -4.69471563e-01 -4.84809620e-01\n",
            " -5.00000000e-01 -5.15038075e-01 -5.29919264e-01 -5.44639035e-01\n",
            " -5.59192903e-01 -5.73576436e-01 -5.87785252e-01 -6.01815023e-01\n",
            " -6.15661475e-01 -6.29320391e-01 -6.42787610e-01 -6.56059029e-01\n",
            " -6.69130606e-01 -6.81998360e-01 -6.94658370e-01 -7.07106781e-01\n",
            " -7.19339800e-01 -7.31353702e-01 -7.43144825e-01 -7.54709580e-01\n",
            " -7.66044443e-01 -7.77145961e-01 -7.88010754e-01 -7.98635510e-01\n",
            " -8.09016994e-01 -8.19152044e-01 -8.29037573e-01 -8.38670568e-01\n",
            " -8.48048096e-01 -8.57167301e-01 -8.66025404e-01 -8.74619707e-01\n",
            " -8.82947593e-01 -8.91006524e-01 -8.98794046e-01 -9.06307787e-01\n",
            " -9.13545458e-01 -9.20504853e-01 -9.27183855e-01 -9.33580426e-01\n",
            " -9.39692621e-01 -9.45518576e-01 -9.51056516e-01 -9.56304756e-01\n",
            " -9.61261696e-01 -9.65925826e-01 -9.70295726e-01 -9.74370065e-01\n",
            " -9.78147601e-01 -9.81627183e-01 -9.84807753e-01 -9.87688341e-01\n",
            " -9.90268069e-01 -9.92546152e-01 -9.94521895e-01 -9.96194698e-01\n",
            " -9.97564050e-01 -9.98629535e-01 -9.99390827e-01 -9.99847695e-01\n",
            " -1.00000000e+00 -9.99847695e-01 -9.99390827e-01 -9.98629535e-01\n",
            " -9.97564050e-01 -9.96194698e-01 -9.94521895e-01 -9.92546152e-01\n",
            " -9.90268069e-01 -9.87688341e-01 -9.84807753e-01 -9.81627183e-01\n",
            " -9.78147601e-01 -9.74370065e-01 -9.70295726e-01 -9.65925826e-01\n",
            " -9.61261696e-01 -9.56304756e-01 -9.51056516e-01 -9.45518576e-01\n",
            " -9.39692621e-01 -9.33580426e-01 -9.27183855e-01 -9.20504853e-01\n",
            " -9.13545458e-01 -9.06307787e-01 -8.98794046e-01 -8.91006524e-01\n",
            " -8.82947593e-01 -8.74619707e-01 -8.66025404e-01 -8.57167301e-01\n",
            " -8.48048096e-01 -8.38670568e-01 -8.29037573e-01 -8.19152044e-01\n",
            " -8.09016994e-01 -7.98635510e-01 -7.88010754e-01 -7.77145961e-01\n",
            " -7.66044443e-01 -7.54709580e-01 -7.43144825e-01 -7.31353702e-01\n",
            " -7.19339800e-01 -7.07106781e-01 -6.94658370e-01 -6.81998360e-01\n",
            " -6.69130606e-01 -6.56059029e-01 -6.42787610e-01 -6.29320391e-01\n",
            " -6.15661475e-01 -6.01815023e-01 -5.87785252e-01 -5.73576436e-01\n",
            " -5.59192903e-01 -5.44639035e-01 -5.29919264e-01 -5.15038075e-01\n",
            " -5.00000000e-01 -4.84809620e-01 -4.69471563e-01 -4.53990500e-01\n",
            " -4.38371147e-01 -4.22618262e-01 -4.06736643e-01 -3.90731128e-01\n",
            " -3.74606593e-01 -3.58367950e-01 -3.42020143e-01 -3.25568154e-01\n",
            " -3.09016994e-01 -2.92371705e-01 -2.75637356e-01 -2.58819045e-01\n",
            " -2.41921896e-01 -2.24951054e-01 -2.07911691e-01 -1.90808995e-01]\n"
          ]
        }
      ]
    },
    {
      "cell_type": "code",
      "source": [
        "plt.plot(result, 'r-')\n",
        "horizon = np.array([0.7 for i in range (980)])\n",
        "plt.plot(horizon, 'b-')"
      ],
      "metadata": {
        "colab": {
          "base_uri": "https://localhost:8080/",
          "height": 285
        },
        "id": "n6_fjGFfV_rh",
        "outputId": "114b03cd-c6a1-472a-c3aa-c27adce90aaf"
      },
      "execution_count": null,
      "outputs": [
        {
          "output_type": "execute_result",
          "data": {
            "text/plain": [
              "[<matplotlib.lines.Line2D at 0x7f61c8ab6810>]"
            ]
          },
          "metadata": {},
          "execution_count": 17
        },
        {
          "output_type": "display_data",
          "data": {
            "text/plain": [
              "<Figure size 432x288 with 1 Axes>"
            ],
            "image/png": "[encoded data removed]"
          },
          "metadata": {
            "needs_background": "light"
          }
        }
      ]
    },
    {
      "cell_type": "code",
      "source": [
        "# projection\n",
        "A = np.array([[7, 2], [0, 1], [3, 4]], dtype=float)\n",
        "print(A)"
      ],
      "metadata": {
        "colab": {
          "base_uri": "https://localhost:8080/"
        },
        "id": "WOyNUq5mWJSi",
        "outputId": "689bdfe0-95a2-4c5e-cdc1-17d4fd436b67"
      },
      "execution_count": null,
      "outputs": [
        {
          "output_type": "stream",
          "name": "stdout",
          "text": [
            "[[7. 2.]\n",
            " [0. 1.]\n",
            " [3. 4.]]\n"
          ]
        }
      ]
    },
    {
      "cell_type": "code",
      "source": [
        "# transpose\n",
        "trA = np.transpose(A)\n",
        "print(trA)"
      ],
      "metadata": {
        "colab": {
          "base_uri": "https://localhost:8080/"
        },
        "id": "kqHI1cKbWnnM",
        "outputId": "f9513a38-1734-4daf-f584-421bada06a11"
      },
      "execution_count": null,
      "outputs": [
        {
          "output_type": "stream",
          "name": "stdout",
          "text": [
            "[[7. 0. 3.]\n",
            " [2. 1. 4.]]\n"
          ]
        }
      ]
    },
    {
      "cell_type": "code",
      "source": [
        "A = np.array([[7, 2], [0, 1], [3, 4]], dtype=float)\n",
        "B = np.array([[4, 5], [1, 3], [-1, 4]])\n",
        "np.transpose(A+B)"
      ],
      "metadata": {
        "colab": {
          "base_uri": "https://localhost:8080/"
        },
        "id": "RXv2RRyxWwfV",
        "outputId": "705091bf-d63f-40fa-a337-03ee57bd0366"
      },
      "execution_count": null,
      "outputs": [
        {
          "output_type": "execute_result",
          "data": {
            "text/plain": [
              "array([[11.,  1.,  2.],\n",
              "       [ 7.,  4.,  8.]])"
            ]
          },
          "metadata": {},
          "execution_count": 20
        }
      ]
    },
    {
      "cell_type": "code",
      "source": [
        "A_square = np.dot(np.transpose(A),A)\n",
        "print(A_square)"
      ],
      "metadata": {
        "colab": {
          "base_uri": "https://localhost:8080/"
        },
        "id": "gDvavgAdW5GD",
        "outputId": "69fc6cb9-15de-4567-edb8-f8a6a0d5826b"
      },
      "execution_count": null,
      "outputs": [
        {
          "output_type": "stream",
          "name": "stdout",
          "text": [
            "[[58. 26.]\n",
            " [26. 21.]]\n"
          ]
        }
      ]
    },
    {
      "cell_type": "code",
      "source": [
        "# determinant\n",
        "a = np.array([[1, 2], [3, 4]])\n",
        "np.linalg.det(a)"
      ],
      "metadata": {
        "colab": {
          "base_uri": "https://localhost:8080/"
        },
        "id": "gmm3E_V9W_df",
        "outputId": "0659d0f9-8b51-4c4c-a387-46fc3e859d85"
      },
      "execution_count": null,
      "outputs": [
        {
          "output_type": "execute_result",
          "data": {
            "text/plain": [
              "-2.0000000000000004"
            ]
          },
          "metadata": {},
          "execution_count": 22
        }
      ]
    },
    {
      "cell_type": "code",
      "source": [
        "np.linalg.det(A_square)"
      ],
      "metadata": {
        "colab": {
          "base_uri": "https://localhost:8080/"
        },
        "id": "yucfXGOLXUxS",
        "outputId": "f556f88b-f1c5-45f6-dac2-08c210492ca8"
      },
      "execution_count": null,
      "outputs": [
        {
          "output_type": "execute_result",
          "data": {
            "text/plain": [
              "542.0000000000001"
            ]
          },
          "metadata": {},
          "execution_count": 23
        }
      ]
    },
    {
      "cell_type": "code",
      "source": [
        "a = np.array([[1, 2], [3, 4]])\n",
        "print(a)\n",
        "b = np.linalg.inv(a)"
      ],
      "metadata": {
        "colab": {
          "base_uri": "https://localhost:8080/"
        },
        "id": "kmqemJM5XWvd",
        "outputId": "b9ae8f75-52bf-4380-d0a5-e4cff7b1e0a4"
      },
      "execution_count": null,
      "outputs": [
        {
          "output_type": "stream",
          "name": "stdout",
          "text": [
            "[[1 2]\n",
            " [3 4]]\n"
          ]
        }
      ]
    },
    {
      "cell_type": "code",
      "source": [
        "np.dot(a, b)"
      ],
      "metadata": {
        "colab": {
          "base_uri": "https://localhost:8080/"
        },
        "id": "5wqOf0rUXiwk",
        "outputId": "3ef1ada8-b034-40c4-a5c6-49eb31980346"
      },
      "execution_count": null,
      "outputs": [
        {
          "output_type": "execute_result",
          "data": {
            "text/plain": [
              "array([[1.0000000e+00, 0.0000000e+00],\n",
              "       [8.8817842e-16, 1.0000000e+00]])"
            ]
          },
          "metadata": {},
          "execution_count": 25
        }
      ]
    },
    {
      "cell_type": "code",
      "source": [
        "v = np.array([1, 2, 1])\n",
        "np.linalg.norm(v, ord=2)"
      ],
      "metadata": {
        "colab": {
          "base_uri": "https://localhost:8080/"
        },
        "id": "n8KSoYqoXlAV",
        "outputId": "41942302-996d-46bb-e687-6d2158b6dd53"
      },
      "execution_count": null,
      "outputs": [
        {
          "output_type": "execute_result",
          "data": {
            "text/plain": [
              "2.449489742783178"
            ]
          },
          "metadata": {},
          "execution_count": 26
        }
      ]
    },
    {
      "cell_type": "code",
      "source": [
        "p = np.array([[2,3], [4, 2]])\n",
        "np.linalg.norm(p, ord=2)"
      ],
      "metadata": {
        "colab": {
          "base_uri": "https://localhost:8080/"
        },
        "id": "7AxtfJ0xYcC_",
        "outputId": "47924080-d6ef-4a41-f558-28d10c9ff475"
      },
      "execution_count": null,
      "outputs": [
        {
          "output_type": "execute_result",
          "data": {
            "text/plain": [
              "5.561552812808832"
            ]
          },
          "metadata": {},
          "execution_count": 27
        }
      ]
    },
    {
      "cell_type": "code",
      "source": [
        "mat = np.array([[5, 25, 36], [25, 155, 175], [35, 175, 325]])\n",
        "print(mat)"
      ],
      "metadata": {
        "colab": {
          "base_uri": "https://localhost:8080/"
        },
        "id": "hREVDhbgYoET",
        "outputId": "af8a730d-432d-404b-f6ac-a873902f8190"
      },
      "execution_count": null,
      "outputs": [
        {
          "output_type": "stream",
          "name": "stdout",
          "text": [
            "[[  5  25  36]\n",
            " [ 25 155 175]\n",
            " [ 35 175 325]]\n"
          ]
        }
      ]
    },
    {
      "cell_type": "code",
      "source": [
        "w, v = np.linalg.eig(mat)"
      ],
      "metadata": {
        "id": "3woh2l2ZZA7f"
      },
      "execution_count": null,
      "outputs": []
    },
    {
      "cell_type": "code",
      "source": [
        "w"
      ],
      "metadata": {
        "colab": {
          "base_uri": "https://localhost:8080/"
        },
        "id": "3g-JXiTUZDTw",
        "outputId": "f9caacd7-70a7-4e67-be1e-5042217fc6fc"
      },
      "execution_count": null,
      "outputs": [
        {
          "output_type": "execute_result",
          "data": {
            "text/plain": [
              "array([438.88278874,   0.5475066 ,  45.56970466])"
            ]
          },
          "metadata": {},
          "execution_count": 30
        }
      ]
    },
    {
      "cell_type": "code",
      "source": [
        "np.product(w)"
      ],
      "metadata": {
        "colab": {
          "base_uri": "https://localhost:8080/"
        },
        "id": "DZ_y6vXwZU9C",
        "outputId": "6d2a1d85-6001-428d-8a25-ec3d442618db"
      },
      "execution_count": null,
      "outputs": [
        {
          "output_type": "execute_result",
          "data": {
            "text/plain": [
              "10949.99999999992"
            ]
          },
          "metadata": {},
          "execution_count": 31
        }
      ]
    },
    {
      "cell_type": "code",
      "source": [
        "v"
      ],
      "metadata": {
        "colab": {
          "base_uri": "https://localhost:8080/"
        },
        "id": "zlBd7Qx1ZFIN",
        "outputId": "fbaea21f-2e7f-47b8-ccde-1618ea4ec222"
      },
      "execution_count": null,
      "outputs": [
        {
          "output_type": "execute_result",
          "data": {
            "text/plain": [
              "array([[ 0.10039492,  0.99347083, -0.04594897],\n",
              "       [ 0.52849651, -0.10126202, -0.84401836],\n",
              "       [ 0.84297823, -0.05255199,  0.5343423 ]])"
            ]
          },
          "metadata": {},
          "execution_count": 32
        }
      ]
    },
    {
      "cell_type": "code",
      "source": [
        "from sklearn.datasets import load_iris\n",
        "from sklearn.decomposition import PCA"
      ],
      "metadata": {
        "id": "snxnd6lWZFV4"
      },
      "execution_count": null,
      "outputs": []
    },
    {
      "cell_type": "code",
      "source": [
        "X, y = load_iris(return_X_y=True)"
      ],
      "metadata": {
        "id": "rfCwQwlvZjKC"
      },
      "execution_count": null,
      "outputs": []
    },
    {
      "cell_type": "code",
      "source": [
        "print(y)"
      ],
      "metadata": {
        "colab": {
          "base_uri": "https://localhost:8080/"
        },
        "id": "w1-fNgnuZlgD",
        "outputId": "60107585-b908-4010-e697-fa3832339ea8"
      },
      "execution_count": null,
      "outputs": [
        {
          "output_type": "stream",
          "name": "stdout",
          "text": [
            "[0 0 0 0 0 0 0 0 0 0 0 0 0 0 0 0 0 0 0 0 0 0 0 0 0 0 0 0 0 0 0 0 0 0 0 0 0\n",
            " 0 0 0 0 0 0 0 0 0 0 0 0 0 1 1 1 1 1 1 1 1 1 1 1 1 1 1 1 1 1 1 1 1 1 1 1 1\n",
            " 1 1 1 1 1 1 1 1 1 1 1 1 1 1 1 1 1 1 1 1 1 1 1 1 1 1 2 2 2 2 2 2 2 2 2 2 2\n",
            " 2 2 2 2 2 2 2 2 2 2 2 2 2 2 2 2 2 2 2 2 2 2 2 2 2 2 2 2 2 2 2 2 2 2 2 2 2\n",
            " 2 2]\n"
          ]
        }
      ]
    },
    {
      "cell_type": "code",
      "source": [
        "pc = PCA(2)\n",
        "pc.fit(X)\n",
        "pc.explained_variance_"
      ],
      "metadata": {
        "colab": {
          "base_uri": "https://localhost:8080/"
        },
        "id": "wc8TZqircXls",
        "outputId": "7f02d0ec-97fc-456f-8e42-9834de714f90"
      },
      "execution_count": null,
      "outputs": [
        {
          "output_type": "execute_result",
          "data": {
            "text/plain": [
              "array([4.22824171, 0.24267075])"
            ]
          },
          "metadata": {},
          "execution_count": 36
        }
      ]
    },
    {
      "cell_type": "code",
      "source": [
        "z = pc.transform(X)\n",
        "print(z)"
      ],
      "metadata": {
        "colab": {
          "base_uri": "https://localhost:8080/"
        },
        "id": "QV7trbE1dsC4",
        "outputId": "da68b795-6d16-4a59-da52-426bbcfd066d"
      },
      "execution_count": null,
      "outputs": [
        {
          "output_type": "stream",
          "name": "stdout",
          "text": [
            "[[-2.68412563  0.31939725]\n",
            " [-2.71414169 -0.17700123]\n",
            " [-2.88899057 -0.14494943]\n",
            " [-2.74534286 -0.31829898]\n",
            " [-2.72871654  0.32675451]\n",
            " [-2.28085963  0.74133045]\n",
            " [-2.82053775 -0.08946138]\n",
            " [-2.62614497  0.16338496]\n",
            " [-2.88638273 -0.57831175]\n",
            " [-2.6727558  -0.11377425]\n",
            " [-2.50694709  0.6450689 ]\n",
            " [-2.61275523  0.01472994]\n",
            " [-2.78610927 -0.235112  ]\n",
            " [-3.22380374 -0.51139459]\n",
            " [-2.64475039  1.17876464]\n",
            " [-2.38603903  1.33806233]\n",
            " [-2.62352788  0.81067951]\n",
            " [-2.64829671  0.31184914]\n",
            " [-2.19982032  0.87283904]\n",
            " [-2.5879864   0.51356031]\n",
            " [-2.31025622  0.39134594]\n",
            " [-2.54370523  0.43299606]\n",
            " [-3.21593942  0.13346807]\n",
            " [-2.30273318  0.09870885]\n",
            " [-2.35575405 -0.03728186]\n",
            " [-2.50666891 -0.14601688]\n",
            " [-2.46882007  0.13095149]\n",
            " [-2.56231991  0.36771886]\n",
            " [-2.63953472  0.31203998]\n",
            " [-2.63198939 -0.19696122]\n",
            " [-2.58739848 -0.20431849]\n",
            " [-2.4099325   0.41092426]\n",
            " [-2.64886233  0.81336382]\n",
            " [-2.59873675  1.09314576]\n",
            " [-2.63692688 -0.12132235]\n",
            " [-2.86624165  0.06936447]\n",
            " [-2.62523805  0.59937002]\n",
            " [-2.80068412  0.26864374]\n",
            " [-2.98050204 -0.48795834]\n",
            " [-2.59000631  0.22904384]\n",
            " [-2.77010243  0.26352753]\n",
            " [-2.84936871 -0.94096057]\n",
            " [-2.99740655 -0.34192606]\n",
            " [-2.40561449  0.18887143]\n",
            " [-2.20948924  0.43666314]\n",
            " [-2.71445143 -0.2502082 ]\n",
            " [-2.53814826  0.50377114]\n",
            " [-2.83946217 -0.22794557]\n",
            " [-2.54308575  0.57941002]\n",
            " [-2.70335978  0.10770608]\n",
            " [ 1.28482569  0.68516047]\n",
            " [ 0.93248853  0.31833364]\n",
            " [ 1.46430232  0.50426282]\n",
            " [ 0.18331772 -0.82795901]\n",
            " [ 1.08810326  0.07459068]\n",
            " [ 0.64166908 -0.41824687]\n",
            " [ 1.09506066  0.28346827]\n",
            " [-0.74912267 -1.00489096]\n",
            " [ 1.04413183  0.2283619 ]\n",
            " [-0.0087454  -0.72308191]\n",
            " [-0.50784088 -1.26597119]\n",
            " [ 0.51169856 -0.10398124]\n",
            " [ 0.26497651 -0.55003646]\n",
            " [ 0.98493451 -0.12481785]\n",
            " [-0.17392537 -0.25485421]\n",
            " [ 0.92786078  0.46717949]\n",
            " [ 0.66028376 -0.35296967]\n",
            " [ 0.23610499 -0.33361077]\n",
            " [ 0.94473373 -0.54314555]\n",
            " [ 0.04522698 -0.58383438]\n",
            " [ 1.11628318 -0.08461685]\n",
            " [ 0.35788842 -0.06892503]\n",
            " [ 1.29818388 -0.32778731]\n",
            " [ 0.92172892 -0.18273779]\n",
            " [ 0.71485333  0.14905594]\n",
            " [ 0.90017437  0.32850447]\n",
            " [ 1.33202444  0.24444088]\n",
            " [ 1.55780216  0.26749545]\n",
            " [ 0.81329065 -0.1633503 ]\n",
            " [-0.30558378 -0.36826219]\n",
            " [-0.06812649 -0.70517213]\n",
            " [-0.18962247 -0.68028676]\n",
            " [ 0.13642871 -0.31403244]\n",
            " [ 1.38002644 -0.42095429]\n",
            " [ 0.58800644 -0.48428742]\n",
            " [ 0.80685831  0.19418231]\n",
            " [ 1.22069088  0.40761959]\n",
            " [ 0.81509524 -0.37203706]\n",
            " [ 0.24595768 -0.2685244 ]\n",
            " [ 0.16641322 -0.68192672]\n",
            " [ 0.46480029 -0.67071154]\n",
            " [ 0.8908152  -0.03446444]\n",
            " [ 0.23054802 -0.40438585]\n",
            " [-0.70453176 -1.01224823]\n",
            " [ 0.35698149 -0.50491009]\n",
            " [ 0.33193448 -0.21265468]\n",
            " [ 0.37621565 -0.29321893]\n",
            " [ 0.64257601  0.01773819]\n",
            " [-0.90646986 -0.75609337]\n",
            " [ 0.29900084 -0.34889781]\n",
            " [ 2.53119273 -0.00984911]\n",
            " [ 1.41523588 -0.57491635]\n",
            " [ 2.61667602  0.34390315]\n",
            " [ 1.97153105 -0.1797279 ]\n",
            " [ 2.35000592 -0.04026095]\n",
            " [ 3.39703874  0.55083667]\n",
            " [ 0.52123224 -1.19275873]\n",
            " [ 2.93258707  0.3555    ]\n",
            " [ 2.32122882 -0.2438315 ]\n",
            " [ 2.91675097  0.78279195]\n",
            " [ 1.66177415  0.24222841]\n",
            " [ 1.80340195 -0.21563762]\n",
            " [ 2.1655918   0.21627559]\n",
            " [ 1.34616358 -0.77681835]\n",
            " [ 1.58592822 -0.53964071]\n",
            " [ 1.90445637  0.11925069]\n",
            " [ 1.94968906  0.04194326]\n",
            " [ 3.48705536  1.17573933]\n",
            " [ 3.79564542  0.25732297]\n",
            " [ 1.30079171 -0.76114964]\n",
            " [ 2.42781791  0.37819601]\n",
            " [ 1.19900111 -0.60609153]\n",
            " [ 3.49992004  0.4606741 ]\n",
            " [ 1.38876613 -0.20439933]\n",
            " [ 2.2754305   0.33499061]\n",
            " [ 2.61409047  0.56090136]\n",
            " [ 1.25850816 -0.17970479]\n",
            " [ 1.29113206 -0.11666865]\n",
            " [ 2.12360872 -0.20972948]\n",
            " [ 2.38800302  0.4646398 ]\n",
            " [ 2.84167278  0.37526917]\n",
            " [ 3.23067366  1.37416509]\n",
            " [ 2.15943764 -0.21727758]\n",
            " [ 1.44416124 -0.14341341]\n",
            " [ 1.78129481 -0.49990168]\n",
            " [ 3.07649993  0.68808568]\n",
            " [ 2.14424331  0.1400642 ]\n",
            " [ 1.90509815  0.04930053]\n",
            " [ 1.16932634 -0.16499026]\n",
            " [ 2.10761114  0.37228787]\n",
            " [ 2.31415471  0.18365128]\n",
            " [ 1.9222678   0.40920347]\n",
            " [ 1.41523588 -0.57491635]\n",
            " [ 2.56301338  0.2778626 ]\n",
            " [ 2.41874618  0.3047982 ]\n",
            " [ 1.94410979  0.1875323 ]\n",
            " [ 1.52716661 -0.37531698]\n",
            " [ 1.76434572  0.07885885]\n",
            " [ 1.90094161  0.11662796]\n",
            " [ 1.39018886 -0.28266094]]\n"
          ]
        }
      ]
    },
    {
      "cell_type": "code",
      "source": [
        "plt.scatter(z[:,0], z[:,1])"
      ],
      "metadata": {
        "colab": {
          "base_uri": "https://localhost:8080/",
          "height": 288
        },
        "id": "sTHim_aadvdf",
        "outputId": "d8b4160f-f128-4720-cc73-cb6ba7779dec"
      },
      "execution_count": null,
      "outputs": [
        {
          "output_type": "execute_result",
          "data": {
            "text/plain": [
              "<matplotlib.collections.PathCollection at 0x7f61b597d990>"
            ]
          },
          "metadata": {},
          "execution_count": 38
        },
        {
          "output_type": "display_data",
          "data": {
            "text/plain": [
              "<Figure size 432x288 with 1 Axes>"
            ],
            "image/png": "[encoded data removed]"
          },
          "metadata": {
            "needs_background": "light"
          }
        }
      ]
    },
    {
      "cell_type": "code",
      "source": [
        "plt.scatter(X[:,0], X[:,1])"
      ],
      "metadata": {
        "colab": {
          "base_uri": "https://localhost:8080/",
          "height": 287
        },
        "id": "ckRDyJ2-dz8G",
        "outputId": "6df84f1a-1686-4fd9-9158-7de887551e04"
      },
      "execution_count": null,
      "outputs": [
        {
          "output_type": "execute_result",
          "data": {
            "text/plain": [
              "<matplotlib.collections.PathCollection at 0x7f61b597d7d0>"
            ]
          },
          "metadata": {},
          "execution_count": 39
        },
        {
          "output_type": "display_data",
          "data": {
            "text/plain": [
              "<Figure size 432x288 with 1 Axes>"
            ],
            "image/png": "[encoded data removed]"
          },
          "metadata": {
            "needs_background": "light"
          }
        }
      ]
    }
  ]
}