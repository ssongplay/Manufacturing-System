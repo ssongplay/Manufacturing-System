{
  "nbformat": 4,
  "nbformat_minor": 0,
  "metadata": {
    "colab": {
      "name": "01_자료구조&넘파이.ipynb",
      "provenance": [],
      "collapsed_sections": [],
      "authorship_tag": "ABX9TyOqFsAeFYDNc+8r5gjqC1Kq",
      "include_colab_link": true
    },
    "kernelspec": {
      "name": "python3",
      "display_name": "Python 3"
    },
    "language_info": {
      "name": "python"
    }
  },
  "cells": [
    {
      "cell_type": "markdown",
      "metadata": {
        "id": "view-in-github",
        "colab_type": "text"
      },
      "source": [
        "<a href=\"https://colab.research.google.com/github/ssongplay/Manufacturing-System-lab/blob/main/01_%EC%9E%90%EB%A3%8C%EA%B5%AC%EC%A1%B0%26%EB%84%98%ED%8C%8C%EC%9D%B4.ipynb\" target=\"_parent\"><img src=\"https://colab.research.google.com/assets/colab-badge.svg\" alt=\"Open In Colab\"/></a>"
      ]
    },
    {
      "cell_type": "markdown",
      "source": [
        "# practice"
      ],
      "metadata": {
        "id": "JA_iI7b_T5Ji"
      }
    },
    {
      "cell_type": "markdown",
      "source": [
        "## 리스트"
      ],
      "metadata": {
        "id": "gL8ytJtOUrCz"
      }
    },
    {
      "cell_type": "code",
      "source": [
        "lst = [1, 2, 3, 4, 5]\n",
        "print(lst)\n",
        "lst.append(6)\n",
        "lst"
      ],
      "metadata": {
        "colab": {
          "base_uri": "https://localhost:8080/"
        },
        "id": "Y3-LwdCBT7ha",
        "outputId": "35bffa74-85f1-45cc-c4c0-fed6cacbe35c"
      },
      "execution_count": null,
      "outputs": [
        {
          "output_type": "stream",
          "name": "stdout",
          "text": [
            "[1, 2, 3, 4, 5]\n"
          ]
        },
        {
          "output_type": "execute_result",
          "data": {
            "text/plain": [
              "[1, 2, 3, 4, 5, 6]"
            ]
          },
          "metadata": {},
          "execution_count": 1
        }
      ]
    },
    {
      "cell_type": "code",
      "source": [
        "lst = [5, 2, 6, 3, 8, 4, 1, 99]\n",
        "lst.sort() #list 정렬\n",
        "print(lst)"
      ],
      "metadata": {
        "colab": {
          "base_uri": "https://localhost:8080/"
        },
        "id": "gNeI9CMlUJ_g",
        "outputId": "f2867c39-7ed2-4767-f5dd-a6c4bd3a4a7d"
      },
      "execution_count": null,
      "outputs": [
        {
          "output_type": "stream",
          "name": "stdout",
          "text": [
            "[1, 2, 3, 4, 5, 6, 8, 99]\n"
          ]
        }
      ]
    },
    {
      "cell_type": "code",
      "source": [
        "lst.insert(0, 100)\n",
        "print(lst)"
      ],
      "metadata": {
        "colab": {
          "base_uri": "https://localhost:8080/"
        },
        "id": "yoJIVJ7KUWj7",
        "outputId": "b0df126e-0f59-4e24-c03a-7eccac9083d4"
      },
      "execution_count": null,
      "outputs": [
        {
          "output_type": "stream",
          "name": "stdout",
          "text": [
            "[100, 1, 2, 3, 4, 5, 6, 8, 99]\n"
          ]
        }
      ]
    },
    {
      "cell_type": "code",
      "source": [
        "lst.count(2)  # list에서 2의 개수"
      ],
      "metadata": {
        "colab": {
          "base_uri": "https://localhost:8080/"
        },
        "id": "SyIUVI9rUeXN",
        "outputId": "9d47e1e1-ffdf-418d-98f0-51ed0448578a"
      },
      "execution_count": null,
      "outputs": [
        {
          "output_type": "execute_result",
          "data": {
            "text/plain": [
              "1"
            ]
          },
          "metadata": {},
          "execution_count": 4
        }
      ]
    },
    {
      "cell_type": "code",
      "source": [
        "lst[1]"
      ],
      "metadata": {
        "colab": {
          "base_uri": "https://localhost:8080/"
        },
        "id": "v-G3sCMpUgyA",
        "outputId": "ade4077d-6fab-440a-99c9-526ced2b27be"
      },
      "execution_count": null,
      "outputs": [
        {
          "output_type": "execute_result",
          "data": {
            "text/plain": [
              "1"
            ]
          },
          "metadata": {},
          "execution_count": 5
        }
      ]
    },
    {
      "cell_type": "markdown",
      "source": [
        "## 튜플"
      ],
      "metadata": {
        "id": "ljjsYN_6Uup4"
      }
    },
    {
      "cell_type": "code",
      "source": [
        "a = (1, 4, 7, 10)\n",
        "print(a[1])"
      ],
      "metadata": {
        "colab": {
          "base_uri": "https://localhost:8080/"
        },
        "id": "42yFQpeJUk74",
        "outputId": "c0dbca28-82b5-4491-d979-5fe683ee821e"
      },
      "execution_count": null,
      "outputs": [
        {
          "output_type": "stream",
          "name": "stdout",
          "text": [
            "4\n"
          ]
        }
      ]
    },
    {
      "cell_type": "markdown",
      "source": [
        "## 세트"
      ],
      "metadata": {
        "id": "DNrzG0cNU6tB"
      }
    },
    {
      "cell_type": "code",
      "source": [
        "a = {1, 3, 5, 7}\n",
        "b = {2, 3, 5, 9}\n",
        "print(a)\n",
        "type(a)"
      ],
      "metadata": {
        "colab": {
          "base_uri": "https://localhost:8080/"
        },
        "id": "-u07uoMwU1bs",
        "outputId": "83a93e28-c8e5-43cc-e8c9-d345d96a59bd"
      },
      "execution_count": null,
      "outputs": [
        {
          "output_type": "stream",
          "name": "stdout",
          "text": [
            "{1, 3, 5, 7}\n"
          ]
        },
        {
          "output_type": "execute_result",
          "data": {
            "text/plain": [
              "set"
            ]
          },
          "metadata": {},
          "execution_count": 7
        }
      ]
    },
    {
      "cell_type": "code",
      "source": [
        "print(a.union(b))  # a와 b의 합집합\n",
        "print(a.intersection(b))"
      ],
      "metadata": {
        "colab": {
          "base_uri": "https://localhost:8080/"
        },
        "id": "GlBGU1-GVEJe",
        "outputId": "e9fd1444-ce52-4fbe-b131-aebc0e6b2121"
      },
      "execution_count": null,
      "outputs": [
        {
          "output_type": "stream",
          "name": "stdout",
          "text": [
            "{1, 2, 3, 5, 7, 9}\n",
            "{3, 5}\n"
          ]
        }
      ]
    },
    {
      "cell_type": "code",
      "source": [
        "a|b"
      ],
      "metadata": {
        "colab": {
          "base_uri": "https://localhost:8080/"
        },
        "id": "o7huIl3oVPul",
        "outputId": "eefa5a95-d1a3-4a79-b444-ae4c5f68df4c"
      },
      "execution_count": null,
      "outputs": [
        {
          "output_type": "execute_result",
          "data": {
            "text/plain": [
              "{1, 2, 3, 5, 7, 9}"
            ]
          },
          "metadata": {},
          "execution_count": 9
        }
      ]
    },
    {
      "cell_type": "code",
      "source": [
        "a&b"
      ],
      "metadata": {
        "colab": {
          "base_uri": "https://localhost:8080/"
        },
        "id": "9i-GDWB8VRTX",
        "outputId": "9531602e-acc4-4cec-e7fe-01a3528764ad"
      },
      "execution_count": null,
      "outputs": [
        {
          "output_type": "execute_result",
          "data": {
            "text/plain": [
              "{3, 5}"
            ]
          },
          "metadata": {},
          "execution_count": 10
        }
      ]
    },
    {
      "cell_type": "code",
      "source": [
        "a-b"
      ],
      "metadata": {
        "colab": {
          "base_uri": "https://localhost:8080/"
        },
        "id": "SC59h_T_VSOi",
        "outputId": "4a4b22c3-028e-4d26-ef51-ea84a0fab096"
      },
      "execution_count": null,
      "outputs": [
        {
          "output_type": "execute_result",
          "data": {
            "text/plain": [
              "{1, 7}"
            ]
          },
          "metadata": {},
          "execution_count": 11
        }
      ]
    },
    {
      "cell_type": "markdown",
      "source": [
        "## 자료형 변환"
      ],
      "metadata": {
        "id": "O_mjsE2PVbxR"
      }
    },
    {
      "cell_type": "code",
      "source": [
        "a = set({1, 2, 3, 4})\n",
        "print(a)\n",
        "type(a)"
      ],
      "metadata": {
        "colab": {
          "base_uri": "https://localhost:8080/"
        },
        "id": "C7oCGycfVXBF",
        "outputId": "e35287c4-2fef-4a05-95ed-db6261ff9d83"
      },
      "execution_count": null,
      "outputs": [
        {
          "output_type": "stream",
          "name": "stdout",
          "text": [
            "{1, 2, 3, 4}\n"
          ]
        },
        {
          "output_type": "execute_result",
          "data": {
            "text/plain": [
              "set"
            ]
          },
          "metadata": {},
          "execution_count": 12
        }
      ]
    },
    {
      "cell_type": "code",
      "source": [
        "c = list(a)\n",
        "c"
      ],
      "metadata": {
        "colab": {
          "base_uri": "https://localhost:8080/"
        },
        "id": "FK6SbLxSVk22",
        "outputId": "26104f52-e0d9-4c1a-d398-4dd44d0a35bd"
      },
      "execution_count": null,
      "outputs": [
        {
          "output_type": "execute_result",
          "data": {
            "text/plain": [
              "[1, 2, 3, 4]"
            ]
          },
          "metadata": {},
          "execution_count": 13
        }
      ]
    },
    {
      "cell_type": "code",
      "source": [
        "lst = [1, 2, 3, 4, 5, 6, 7, 8, 9, 10]\n",
        "print(lst[5:9])"
      ],
      "metadata": {
        "colab": {
          "base_uri": "https://localhost:8080/"
        },
        "id": "HSJFq6y7VqRO",
        "outputId": "39761cb6-116d-4730-b7df-25e640edbfd6"
      },
      "execution_count": null,
      "outputs": [
        {
          "output_type": "stream",
          "name": "stdout",
          "text": [
            "[6, 7, 8, 9]\n"
          ]
        }
      ]
    },
    {
      "cell_type": "code",
      "source": [
        "bag = dict()\n",
        "print(bag)\n",
        "bag['money'] = 100\n",
        "bag['gun'] = 2\n",
        "print(bag)\n",
        "bag['gun']"
      ],
      "metadata": {
        "id": "qX-OxMegYNAI",
        "colab": {
          "base_uri": "https://localhost:8080/"
        },
        "outputId": "cf2f8c2d-d95f-4c50-ceb0-6e59c6b82443"
      },
      "execution_count": null,
      "outputs": [
        {
          "output_type": "stream",
          "name": "stdout",
          "text": [
            "{}\n",
            "{'money': 100, 'gun': 2}\n"
          ]
        },
        {
          "output_type": "execute_result",
          "data": {
            "text/plain": [
              "2"
            ]
          },
          "metadata": {},
          "execution_count": 15
        }
      ]
    },
    {
      "cell_type": "code",
      "source": [
        "lst = list()\n",
        "lst.append(1)\n",
        "print(lst)"
      ],
      "metadata": {
        "colab": {
          "base_uri": "https://localhost:8080/"
        },
        "id": "7sxsdmOFLC2A",
        "outputId": "9984a903-3bd7-42cc-b08c-679d0e1673f5"
      },
      "execution_count": null,
      "outputs": [
        {
          "output_type": "stream",
          "name": "stdout",
          "text": [
            "[1]\n"
          ]
        }
      ]
    },
    {
      "cell_type": "code",
      "source": [
        "lst.append(2)\n",
        "print(lst)"
      ],
      "metadata": {
        "colab": {
          "base_uri": "https://localhost:8080/"
        },
        "id": "3ws7gmPuLVIN",
        "outputId": "8d563314-a4bf-43d7-d5cb-bc341f925cdd"
      },
      "execution_count": null,
      "outputs": [
        {
          "output_type": "stream",
          "name": "stdout",
          "text": [
            "[1, 2]\n"
          ]
        }
      ]
    },
    {
      "cell_type": "code",
      "source": [
        "lst[1]"
      ],
      "metadata": {
        "colab": {
          "base_uri": "https://localhost:8080/"
        },
        "id": "Os5ut5rrLTD5",
        "outputId": "dcba18a3-077c-4dc9-ee34-dfc0f7c33b67"
      },
      "execution_count": null,
      "outputs": [
        {
          "output_type": "execute_result",
          "data": {
            "text/plain": [
              "2"
            ]
          },
          "metadata": {},
          "execution_count": 18
        }
      ]
    },
    {
      "cell_type": "code",
      "source": [
        "dic = dict()\n",
        "dic['age'] = 20\n",
        "dic['status'] = 'student'\n",
        "dic['name'] = 'James'\n",
        "print(dic)"
      ],
      "metadata": {
        "colab": {
          "base_uri": "https://localhost:8080/"
        },
        "id": "t2gYDgZDLZPr",
        "outputId": "689fa4a2-d40f-464c-92b8-a8f23bd5874f"
      },
      "execution_count": null,
      "outputs": [
        {
          "output_type": "stream",
          "name": "stdout",
          "text": [
            "{'age': 20, 'status': 'student', 'name': 'James'}\n"
          ]
        }
      ]
    },
    {
      "cell_type": "code",
      "source": [
        "import numpy as np\n",
        "\n",
        "number = np.array(range(1, 11))\n",
        "print(number)"
      ],
      "metadata": {
        "colab": {
          "base_uri": "https://localhost:8080/"
        },
        "id": "ccl6iVLMLgls",
        "outputId": "8d0c839d-6e9b-4780-ba13-7d4447daf10f"
      },
      "execution_count": null,
      "outputs": [
        {
          "output_type": "stream",
          "name": "stdout",
          "text": [
            "[ 1  2  3  4  5  6  7  8  9 10]\n"
          ]
        }
      ]
    },
    {
      "cell_type": "code",
      "source": [
        "type(number)"
      ],
      "metadata": {
        "colab": {
          "base_uri": "https://localhost:8080/"
        },
        "id": "ssyrI7RgLzk3",
        "outputId": "19fc0a41-8ee3-41bf-fdf1-8684d5d000f8"
      },
      "execution_count": null,
      "outputs": [
        {
          "output_type": "execute_result",
          "data": {
            "text/plain": [
              "numpy.ndarray"
            ]
          },
          "metadata": {},
          "execution_count": 21
        }
      ]
    },
    {
      "cell_type": "code",
      "source": [
        "print(np.empty([3, 3]))"
      ],
      "metadata": {
        "colab": {
          "base_uri": "https://localhost:8080/"
        },
        "id": "F-Rn9NE3L1Vv",
        "outputId": "1455ce41-a98e-4f7a-982d-0e250cd37069"
      },
      "execution_count": null,
      "outputs": [
        {
          "output_type": "stream",
          "name": "stdout",
          "text": [
            "[[4.63969293e-310 0.00000000e+000 0.00000000e+000]\n",
            " [0.00000000e+000 0.00000000e+000 0.00000000e+000]\n",
            " [0.00000000e+000 0.00000000e+000 0.00000000e+000]]\n"
          ]
        }
      ]
    },
    {
      "cell_type": "code",
      "source": [
        "a = np.ones([2, 4])\n",
        "print(a)\n",
        "print(a.ndim)\n",
        "print(a.dtype)"
      ],
      "metadata": {
        "colab": {
          "base_uri": "https://localhost:8080/"
        },
        "id": "FFjOwmJnMCb0",
        "outputId": "c4efcfe6-32e1-402c-b42d-f1fcbfc43c13"
      },
      "execution_count": null,
      "outputs": [
        {
          "output_type": "stream",
          "name": "stdout",
          "text": [
            "[[1. 1. 1. 1.]\n",
            " [1. 1. 1. 1.]]\n",
            "2\n",
            "float64\n"
          ]
        }
      ]
    },
    {
      "cell_type": "code",
      "source": [
        "eye = np.eye(3,3,k=0)\n",
        "print(eye)"
      ],
      "metadata": {
        "colab": {
          "base_uri": "https://localhost:8080/"
        },
        "id": "yf4HtjgyMMBP",
        "outputId": "151fcb1c-278f-4efd-80bf-1a669512afdc"
      },
      "execution_count": null,
      "outputs": [
        {
          "output_type": "stream",
          "name": "stdout",
          "text": [
            "[[1. 0. 0.]\n",
            " [0. 1. 0.]\n",
            " [0. 0. 1.]]\n"
          ]
        }
      ]
    },
    {
      "cell_type": "code",
      "source": [
        "a = np.arange(1, 5, 0.05)\n",
        "print(a)"
      ],
      "metadata": {
        "colab": {
          "base_uri": "https://localhost:8080/"
        },
        "id": "ZyxeHOfqMObN",
        "outputId": "627ff733-021d-44c6-d72c-b48f6fcd2213"
      },
      "execution_count": null,
      "outputs": [
        {
          "output_type": "stream",
          "name": "stdout",
          "text": [
            "[1.   1.05 1.1  1.15 1.2  1.25 1.3  1.35 1.4  1.45 1.5  1.55 1.6  1.65\n",
            " 1.7  1.75 1.8  1.85 1.9  1.95 2.   2.05 2.1  2.15 2.2  2.25 2.3  2.35\n",
            " 2.4  2.45 2.5  2.55 2.6  2.65 2.7  2.75 2.8  2.85 2.9  2.95 3.   3.05\n",
            " 3.1  3.15 3.2  3.25 3.3  3.35 3.4  3.45 3.5  3.55 3.6  3.65 3.7  3.75\n",
            " 3.8  3.85 3.9  3.95 4.   4.05 4.1  4.15 4.2  4.25 4.3  4.35 4.4  4.45\n",
            " 4.5  4.55 4.6  4.65 4.7  4.75 4.8  4.85 4.9  4.95]\n"
          ]
        }
      ]
    },
    {
      "cell_type": "code",
      "source": [
        "a_int = a.astype(int)\n",
        "print(a_int)"
      ],
      "metadata": {
        "colab": {
          "base_uri": "https://localhost:8080/"
        },
        "id": "o7ACm0ArMex9",
        "outputId": "98bfe393-1eb5-47ab-86af-1c1e18c8b4b2"
      },
      "execution_count": null,
      "outputs": [
        {
          "output_type": "stream",
          "name": "stdout",
          "text": [
            "[1 1 1 1 1 1 1 1 1 1 1 1 1 1 1 1 1 1 1 1 2 2 2 2 2 2 2 2 2 2 2 2 2 2 2 2 2\n",
            " 2 2 2 3 3 3 3 3 3 3 3 3 3 3 3 3 3 3 3 3 3 3 3 4 4 4 4 4 4 4 4 4 4 4 4 4 4\n",
            " 4 4 4 4 4 4]\n"
          ]
        }
      ]
    },
    {
      "cell_type": "code",
      "source": [
        "names = np.array([\"유비\", \"관우\", \"장비\", \"조운\", \"제갈량\", \"마초\"])\n",
        "print(names)\n",
        "print(names.reshape(3,2))\n",
        "print(names.reshape(3,2).T)"
      ],
      "metadata": {
        "colab": {
          "base_uri": "https://localhost:8080/"
        },
        "id": "jka05-VjMlfW",
        "outputId": "84fcff73-7cd5-46ba-91a2-fd1c76dfe2da"
      },
      "execution_count": null,
      "outputs": [
        {
          "output_type": "stream",
          "name": "stdout",
          "text": [
            "['유비' '관우' '장비' '조운' '제갈량' '마초']\n",
            "[['유비' '관우']\n",
            " ['장비' '조운']\n",
            " ['제갈량' '마초']]\n",
            "[['유비' '장비' '제갈량']\n",
            " ['관우' '조운' '마초']]\n"
          ]
        }
      ]
    },
    {
      "cell_type": "code",
      "source": [
        "dirty = np.array([4.4, 5, 1, 3.5, 2, 9, 1.1])\n",
        "len(dirty)"
      ],
      "metadata": {
        "colab": {
          "base_uri": "https://localhost:8080/"
        },
        "id": "_ogz4uexM1Ej",
        "outputId": "7fb02eeb-97d4-4684-b813-afa4b5709069"
      },
      "execution_count": null,
      "outputs": [
        {
          "output_type": "execute_result",
          "data": {
            "text/plain": [
              "7"
            ]
          },
          "metadata": {},
          "execution_count": 28
        }
      ]
    },
    {
      "cell_type": "code",
      "source": [
        "select = dirty<2.5\n",
        "print(select)"
      ],
      "metadata": {
        "colab": {
          "base_uri": "https://localhost:8080/"
        },
        "id": "rRjFK1C9M_FZ",
        "outputId": "c9e13e98-a76a-48be-ec9b-7d97f5a85c64"
      },
      "execution_count": null,
      "outputs": [
        {
          "output_type": "stream",
          "name": "stdout",
          "text": [
            "[False False  True False  True False  True]\n"
          ]
        }
      ]
    },
    {
      "cell_type": "code",
      "source": [
        "print(dirty[select])"
      ],
      "metadata": {
        "colab": {
          "base_uri": "https://localhost:8080/"
        },
        "id": "tMmOC7HaNEuf",
        "outputId": "40a0c581-658f-4937-becf-492101810b51"
      },
      "execution_count": null,
      "outputs": [
        {
          "output_type": "stream",
          "name": "stdout",
          "text": [
            "[1.  2.  1.1]\n"
          ]
        }
      ]
    },
    {
      "cell_type": "code",
      "source": [
        "print(names)\n",
        "print(names[[1, 3, -1]])\n",
        "names_re = names.reshape(3,2)\n",
        "print(names_re)\n",
        "print(names_re[1,:])"
      ],
      "metadata": {
        "colab": {
          "base_uri": "https://localhost:8080/"
        },
        "id": "pzi5_-egNIvC",
        "outputId": "b0974234-0eae-4677-d4ff-608ebbbdd283"
      },
      "execution_count": null,
      "outputs": [
        {
          "output_type": "stream",
          "name": "stdout",
          "text": [
            "['유비' '관우' '장비' '조운' '제갈량' '마초']\n",
            "['관우' '조운' '마초']\n",
            "[['유비' '관우']\n",
            " ['장비' '조운']\n",
            " ['제갈량' '마초']]\n",
            "['장비' '조운']\n"
          ]
        }
      ]
    },
    {
      "cell_type": "code",
      "source": [
        "a = np.arange(1, 5)\n",
        "print(a)\n",
        "print(a*3)\n",
        "print(a/2)"
      ],
      "metadata": {
        "colab": {
          "base_uri": "https://localhost:8080/"
        },
        "id": "GweDtXhBNKcK",
        "outputId": "48148303-10bf-43fd-e0cd-0b7b1bb68aa2"
      },
      "execution_count": null,
      "outputs": [
        {
          "output_type": "stream",
          "name": "stdout",
          "text": [
            "[1 2 3 4]\n",
            "[ 3  6  9 12]\n",
            "[0.5 1.  1.5 2. ]\n"
          ]
        }
      ]
    },
    {
      "cell_type": "code",
      "source": [
        "b = np.arange(2, 6)\n",
        "print(b)\n",
        "print(a*b)"
      ],
      "metadata": {
        "colab": {
          "base_uri": "https://localhost:8080/"
        },
        "id": "V5TbTPsaNg7s",
        "outputId": "72b61655-13cc-44eb-e67e-d6c4849b4aed"
      },
      "execution_count": null,
      "outputs": [
        {
          "output_type": "stream",
          "name": "stdout",
          "text": [
            "[2 3 4 5]\n",
            "[ 2  6 12 20]\n"
          ]
        }
      ]
    },
    {
      "cell_type": "code",
      "source": [
        "noise = np.eye(4) + np.random.random([4,4])\n",
        "print(noise)\n",
        "print(np.round(noise, 3))"
      ],
      "metadata": {
        "colab": {
          "base_uri": "https://localhost:8080/"
        },
        "id": "riSsJ9cZNqCl",
        "outputId": "472fee39-393a-48eb-fb26-020a5852d86a"
      },
      "execution_count": null,
      "outputs": [
        {
          "output_type": "stream",
          "name": "stdout",
          "text": [
            "[[1.58781145 0.86910986 0.30716517 0.89723102]\n",
            " [0.02490232 1.32948156 0.50446588 0.39337363]\n",
            " [0.92231106 0.64041647 1.51314478 0.24937883]\n",
            " [0.29448289 0.17739492 0.89420508 1.18692319]]\n",
            "[[1.588 0.869 0.307 0.897]\n",
            " [0.025 1.329 0.504 0.393]\n",
            " [0.922 0.64  1.513 0.249]\n",
            " [0.294 0.177 0.894 1.187]]\n"
          ]
        }
      ]
    },
    {
      "cell_type": "code",
      "source": [
        "stock = np.array([130, 120.5, 540.2, 441, 250, 14, 350.2])\n",
        "np.greater(stock, 5)\n",
        "np.max(stock)\n",
        "cos_stock = np.cos(stock)\n",
        "print(cos_stock)"
      ],
      "metadata": {
        "colab": {
          "base_uri": "https://localhost:8080/"
        },
        "id": "vXBoEpXTN1W6",
        "outputId": "b3b0a1c2-3b66-4db5-d10c-b7ce776d28a9"
      },
      "execution_count": null,
      "outputs": [
        {
          "output_type": "stream",
          "name": "stdout",
          "text": [
            "[-0.36729133  0.43615119  0.98817517  0.38367061  0.24098831  0.13673722\n",
            " -0.08746895]\n"
          ]
        }
      ]
    },
    {
      "cell_type": "code",
      "source": [
        "np.where(stock>5, 1, 0)"
      ],
      "metadata": {
        "colab": {
          "base_uri": "https://localhost:8080/"
        },
        "id": "5PkIZmLOOMLW",
        "outputId": "d0d47b15-4a83-4fcb-c102-715f08c55fef"
      },
      "execution_count": null,
      "outputs": [
        {
          "output_type": "execute_result",
          "data": {
            "text/plain": [
              "array([1, 1, 1, 1, 1, 1, 1])"
            ]
          },
          "metadata": {},
          "execution_count": 36
        }
      ]
    },
    {
      "cell_type": "code",
      "source": [
        "np.where(stock>5, \"T\", \"F\")"
      ],
      "metadata": {
        "colab": {
          "base_uri": "https://localhost:8080/"
        },
        "id": "NOLoASfgOVtk",
        "outputId": "ac58d684-d9eb-4001-8cf5-bd0687e3a367"
      },
      "execution_count": null,
      "outputs": [
        {
          "output_type": "execute_result",
          "data": {
            "text/plain": [
              "array(['T', 'T', 'T', 'T', 'T', 'T', 'T'], dtype='<U1')"
            ]
          },
          "metadata": {},
          "execution_count": 37
        }
      ]
    },
    {
      "cell_type": "code",
      "source": [
        "np.any(stock<0)"
      ],
      "metadata": {
        "colab": {
          "base_uri": "https://localhost:8080/"
        },
        "id": "3x-NCq7dOY5x",
        "outputId": "84d665fb-a753-47a0-f114-3c055f0faaaa"
      },
      "execution_count": null,
      "outputs": [
        {
          "output_type": "execute_result",
          "data": {
            "text/plain": [
              "False"
            ]
          },
          "metadata": {},
          "execution_count": 38
        }
      ]
    },
    {
      "cell_type": "code",
      "source": [
        "np.all(stock>0.5)"
      ],
      "metadata": {
        "colab": {
          "base_uri": "https://localhost:8080/"
        },
        "id": "kGr2hvNKOd3r",
        "outputId": "a034d495-bce1-4630-8224-464924354581"
      },
      "execution_count": null,
      "outputs": [
        {
          "output_type": "execute_result",
          "data": {
            "text/plain": [
              "True"
            ]
          },
          "metadata": {},
          "execution_count": 39
        }
      ]
    },
    {
      "cell_type": "code",
      "source": [
        "np.sum(stock)"
      ],
      "metadata": {
        "id": "V9gRsNqOOfvO",
        "colab": {
          "base_uri": "https://localhost:8080/"
        },
        "outputId": "44f4dd52-84ca-49b4-a037-c2ecd8b05fa9"
      },
      "execution_count": null,
      "outputs": [
        {
          "output_type": "execute_result",
          "data": {
            "text/plain": [
              "1845.9"
            ]
          },
          "metadata": {},
          "execution_count": 40
        }
      ]
    },
    {
      "cell_type": "code",
      "source": [
        "np.min(stock)"
      ],
      "metadata": {
        "colab": {
          "base_uri": "https://localhost:8080/"
        },
        "id": "IFu88v9MO3LF",
        "outputId": "ef9c6218-0e4b-4397-af63-be902d4ff805"
      },
      "execution_count": null,
      "outputs": [
        {
          "output_type": "execute_result",
          "data": {
            "text/plain": [
              "14.0"
            ]
          },
          "metadata": {},
          "execution_count": 41
        }
      ]
    },
    {
      "cell_type": "code",
      "source": [
        "cumul_sum = np.cumsum(stock)\n",
        "print(cumul_sum)"
      ],
      "metadata": {
        "colab": {
          "base_uri": "https://localhost:8080/"
        },
        "id": "NN-hKAvOO6AA",
        "outputId": "d65875c3-b6b1-451d-8cce-5e2cbc5371ca"
      },
      "execution_count": null,
      "outputs": [
        {
          "output_type": "stream",
          "name": "stdout",
          "text": [
            "[ 130.   250.5  790.7 1231.7 1481.7 1495.7 1845.9]\n"
          ]
        }
      ]
    },
    {
      "cell_type": "code",
      "source": [
        "import matplotlib.pyplot as plt\n",
        "a = np.cumsum(stock)\n",
        "plt.plot(a)"
      ],
      "metadata": {
        "colab": {
          "base_uri": "https://localhost:8080/",
          "height": 285
        },
        "id": "n_bYVy3QO_o4",
        "outputId": "32e1e44b-2426-4ab0-afa4-2bae153f7a64"
      },
      "execution_count": null,
      "outputs": [
        {
          "output_type": "execute_result",
          "data": {
            "text/plain": [
              "[<matplotlib.lines.Line2D at 0x7f91426af350>]"
            ]
          },
          "metadata": {},
          "execution_count": 43
        },
        {
          "output_type": "display_data",
          "data": {
            "text/plain": [
              "<Figure size 432x288 with 1 Axes>"
            ],
            "image/png": "[encoded data removed]"
          },
          "metadata": {
            "needs_background": "light"
          }
        }
      ]
    },
    {
      "cell_type": "code",
      "source": [
        "b = np.cumproduct(stock)\n",
        "plt.plot(b)"
      ],
      "metadata": {
        "colab": {
          "base_uri": "https://localhost:8080/",
          "height": 295
        },
        "id": "u-sbsHo6PG_H",
        "outputId": "8d389b57-50af-4723-ce63-72303904d1be"
      },
      "execution_count": null,
      "outputs": [
        {
          "output_type": "execute_result",
          "data": {
            "text/plain": [
              "[<matplotlib.lines.Line2D at 0x7f9142191250>]"
            ]
          },
          "metadata": {},
          "execution_count": 44
        },
        {
          "output_type": "display_data",
          "data": {
            "text/plain": [
              "<Figure size 432x288 with 1 Axes>"
            ],
            "image/png": "[encoded data removed]"
          },
          "metadata": {
            "needs_background": "light"
          }
        }
      ]
    }
  ]
}