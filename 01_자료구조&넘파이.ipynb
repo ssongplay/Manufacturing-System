{
  "nbformat": 4,
  "nbformat_minor": 0,
  "metadata": {
    "colab": {
      "name": "01_자료구조&넘파이.ipynb",
      "provenance": [],
      "collapsed_sections": [],
      "authorship_tag": "ABX9TyPV8oJPQVYog6aNSWtSl+Rl",
      "include_colab_link": true
    },
    "kernelspec": {
      "name": "python3",
      "display_name": "Python 3"
    },
    "language_info": {
      "name": "python"
    }
  },
  "cells": [
    {
      "cell_type": "markdown",
      "metadata": {
        "id": "view-in-github",
        "colab_type": "text"
      },
      "source": [
        "<a href=\"https://colab.research.google.com/github/ssongplay/Manufacturing-System-lab/blob/main/01_%EC%9E%90%EB%A3%8C%EA%B5%AC%EC%A1%B0%26%EB%84%98%ED%8C%8C%EC%9D%B4.ipynb\" target=\"_parent\"><img src=\"https://colab.research.google.com/assets/colab-badge.svg\" alt=\"Open In Colab\"/></a>"
      ]
    },
    {
      "cell_type": "markdown",
      "source": [
        "# list\n",
        "- 리스트는 수치형 값 또는 문자열 등 여러 값을 한 줄로 모은 것\n",
        "- 인덱싱과 슬라이싱\n",
        "- 관련 함수 : len(), max(), min()\n",
        "- Object.method(argument) 형태"
      ],
      "metadata": {
        "id": "JA_iI7b_T5Ji"
      }
    },
    {
      "cell_type": "code",
      "source": [
        "# list print\n",
        "lst = [1, 2, 3, 4, 5]\n",
        "print(lst)"
      ],
      "metadata": {
        "colab": {
          "base_uri": "https://localhost:8080/"
        },
        "id": "Y3-LwdCBT7ha",
        "outputId": "7fead1e3-9567-4c5e-f1ec-14a458e418d0"
      },
      "execution_count": 1,
      "outputs": [
        {
          "output_type": "stream",
          "name": "stdout",
          "text": [
            "[1, 2, 3, 4, 5]\n"
          ]
        }
      ]
    },
    {
      "cell_type": "code",
      "source": [
        "# .append - 리트스에 값 추가\n",
        "lst.append(6)\n",
        "lst"
      ],
      "metadata": {
        "colab": {
          "base_uri": "https://localhost:8080/"
        },
        "id": "sNf3pvufKAVw",
        "outputId": "1e6f13a5-6e3d-4a15-ee29-6f67ad3ce8bf"
      },
      "execution_count": 2,
      "outputs": [
        {
          "output_type": "execute_result",
          "data": {
            "text/plain": [
              "[1, 2, 3, 4, 5, 6]"
            ]
          },
          "metadata": {},
          "execution_count": 2
        }
      ]
    },
    {
      "cell_type": "code",
      "source": [
        "# list sort (정렬)\n",
        "lst = [5, 2, 6, 3, 8, 4, 1, 99]\n",
        "lst.sort() \n",
        "print(lst)"
      ],
      "metadata": {
        "colab": {
          "base_uri": "https://localhost:8080/"
        },
        "id": "gNeI9CMlUJ_g",
        "outputId": "7a6903b3-c68c-4667-f912-e8a72c1362d2"
      },
      "execution_count": 3,
      "outputs": [
        {
          "output_type": "stream",
          "name": "stdout",
          "text": [
            "[1, 2, 3, 4, 5, 6, 8, 99]\n"
          ]
        }
      ]
    },
    {
      "cell_type": "code",
      "source": [
        "# .insert - 리스트 특정 위치에 값 추가\n",
        "lst.insert(0, 100)  # 0번 인덱스에 100 추가\n",
        "print(lst)"
      ],
      "metadata": {
        "colab": {
          "base_uri": "https://localhost:8080/"
        },
        "id": "yoJIVJ7KUWj7",
        "outputId": "80ecfa45-9b74-4a9f-b0df-7588b6eccfbe"
      },
      "execution_count": 4,
      "outputs": [
        {
          "output_type": "stream",
          "name": "stdout",
          "text": [
            "[100, 1, 2, 3, 4, 5, 6, 8, 99]\n"
          ]
        }
      ]
    },
    {
      "cell_type": "code",
      "source": [
        "lst.count(2)  # list에서 2의 개수"
      ],
      "metadata": {
        "colab": {
          "base_uri": "https://localhost:8080/"
        },
        "id": "SyIUVI9rUeXN",
        "outputId": "9c65445f-c5e7-4324-b48f-a0947af6d7e1"
      },
      "execution_count": 5,
      "outputs": [
        {
          "output_type": "execute_result",
          "data": {
            "text/plain": [
              "1"
            ]
          },
          "metadata": {},
          "execution_count": 5
        }
      ]
    },
    {
      "cell_type": "code",
      "source": [
        "lst[1]  # lst의 1번 인덱스 값"
      ],
      "metadata": {
        "colab": {
          "base_uri": "https://localhost:8080/"
        },
        "id": "v-G3sCMpUgyA",
        "outputId": "0f65ad3f-dea2-4c0e-c1d0-4ff14b0a1576"
      },
      "execution_count": 6,
      "outputs": [
        {
          "output_type": "execute_result",
          "data": {
            "text/plain": [
              "1"
            ]
          },
          "metadata": {},
          "execution_count": 6
        }
      ]
    },
    {
      "cell_type": "markdown",
      "source": [
        "# tuple\n",
        "- 시퀀스(순서가 있는) 자료구조\n",
        "- 인덱스는 0부터 시작\n",
        "- 변경 불가능한 시퀀스 -> 일단 생성하면 값을 바꾸는 연산 불가\n",
        "- 소괄호() 사용\n",
        "- 메모리 사용/속도 측면에서 리스트보다 유리 \n",
        "- 임시변수로써의 역할로 자주 활용"
      ],
      "metadata": {
        "id": "ljjsYN_6Uup4"
      }
    },
    {
      "cell_type": "code",
      "source": [
        "a = (1, 4, 7, 10)\n",
        "print(a[1])"
      ],
      "metadata": {
        "colab": {
          "base_uri": "https://localhost:8080/"
        },
        "id": "42yFQpeJUk74",
        "outputId": "78cfea71-82c2-4429-f61b-8457ea5ecb18"
      },
      "execution_count": 7,
      "outputs": [
        {
          "output_type": "stream",
          "name": "stdout",
          "text": [
            "4\n"
          ]
        }
      ]
    },
    {
      "cell_type": "markdown",
      "source": [
        "# set\n",
        "- 값의 모임\n",
        "- 값의 순서가 존재하지 않음\n",
        "- 중괄호{} 사용\n",
        "- 집합과 관련된 연산에 사용"
      ],
      "metadata": {
        "id": "DNrzG0cNU6tB"
      }
    },
    {
      "cell_type": "code",
      "source": [
        "a = {1, 3, 5, 7}\n",
        "b = {2, 3, 5, 9}\n",
        "print(a)\n",
        "type(a)"
      ],
      "metadata": {
        "colab": {
          "base_uri": "https://localhost:8080/"
        },
        "id": "-u07uoMwU1bs",
        "outputId": "d8590a09-6cbf-4efb-cc38-ee6989ccb1df"
      },
      "execution_count": 8,
      "outputs": [
        {
          "output_type": "stream",
          "name": "stdout",
          "text": [
            "{1, 3, 5, 7}\n"
          ]
        },
        {
          "output_type": "execute_result",
          "data": {
            "text/plain": [
              "set"
            ]
          },
          "metadata": {},
          "execution_count": 8
        }
      ]
    },
    {
      "cell_type": "code",
      "source": [
        "print(a.union(b))   # a와 b의 합집합\n",
        "print(a.intersection(b))   # a와 b의 교집합"
      ],
      "metadata": {
        "colab": {
          "base_uri": "https://localhost:8080/"
        },
        "id": "GlBGU1-GVEJe",
        "outputId": "7c10a82f-369a-462a-c998-7b63356aa7a3"
      },
      "execution_count": 9,
      "outputs": [
        {
          "output_type": "stream",
          "name": "stdout",
          "text": [
            "{1, 2, 3, 5, 7, 9}\n",
            "{3, 5}\n"
          ]
        }
      ]
    },
    {
      "cell_type": "code",
      "source": [
        "a|b "
      ],
      "metadata": {
        "colab": {
          "base_uri": "https://localhost:8080/"
        },
        "id": "o7huIl3oVPul",
        "outputId": "b0d6c4b0-9680-4f6d-9c8f-736ed6d6b371"
      },
      "execution_count": 10,
      "outputs": [
        {
          "output_type": "execute_result",
          "data": {
            "text/plain": [
              "{1, 2, 3, 5, 7, 9}"
            ]
          },
          "metadata": {},
          "execution_count": 10
        }
      ]
    },
    {
      "cell_type": "code",
      "source": [
        "a&b"
      ],
      "metadata": {
        "colab": {
          "base_uri": "https://localhost:8080/"
        },
        "id": "9i-GDWB8VRTX",
        "outputId": "4047f4da-b073-4d85-d8f7-1a1cd7fc9047"
      },
      "execution_count": 11,
      "outputs": [
        {
          "output_type": "execute_result",
          "data": {
            "text/plain": [
              "{3, 5}"
            ]
          },
          "metadata": {},
          "execution_count": 11
        }
      ]
    },
    {
      "cell_type": "code",
      "source": [
        "a-b"
      ],
      "metadata": {
        "colab": {
          "base_uri": "https://localhost:8080/"
        },
        "id": "SC59h_T_VSOi",
        "outputId": "bfb3fb54-b370-4e8f-8f39-455892f28e23"
      },
      "execution_count": 12,
      "outputs": [
        {
          "output_type": "execute_result",
          "data": {
            "text/plain": [
              "{1, 7}"
            ]
          },
          "metadata": {},
          "execution_count": 12
        }
      ]
    },
    {
      "cell_type": "markdown",
      "source": [
        "# 자료형 변환 & indexing\n",
        "- 아주 기본적인 데이터의 선택법\n",
        "- 미래를 위해 매우 중요"
      ],
      "metadata": {
        "id": "O_mjsE2PVbxR"
      }
    },
    {
      "cell_type": "code",
      "source": [
        "a = set({1, 2, 3, 4})\n",
        "print(a)\n",
        "type(a)"
      ],
      "metadata": {
        "colab": {
          "base_uri": "https://localhost:8080/"
        },
        "id": "C7oCGycfVXBF",
        "outputId": "f7fa68d4-6c1c-4d73-a164-b9dbd090467b"
      },
      "execution_count": 13,
      "outputs": [
        {
          "output_type": "stream",
          "name": "stdout",
          "text": [
            "{1, 2, 3, 4}\n"
          ]
        },
        {
          "output_type": "execute_result",
          "data": {
            "text/plain": [
              "set"
            ]
          },
          "metadata": {},
          "execution_count": 13
        }
      ]
    },
    {
      "cell_type": "code",
      "source": [
        "c = list(a)\n",
        "c  # set였던 a가 list가 됨"
      ],
      "metadata": {
        "colab": {
          "base_uri": "https://localhost:8080/"
        },
        "id": "FK6SbLxSVk22",
        "outputId": "d2ecffac-d81c-4383-f5f5-40f72b02def3"
      },
      "execution_count": 14,
      "outputs": [
        {
          "output_type": "execute_result",
          "data": {
            "text/plain": [
              "[1, 2, 3, 4]"
            ]
          },
          "metadata": {},
          "execution_count": 14
        }
      ]
    },
    {
      "cell_type": "code",
      "source": [
        "# list slicing\n",
        "lst = [1, 2, 3, 4, 5, 6, 7, 8, 9, 10]\n",
        "print(lst[5:9])"
      ],
      "metadata": {
        "colab": {
          "base_uri": "https://localhost:8080/"
        },
        "id": "HSJFq6y7VqRO",
        "outputId": "b577e32f-778a-4145-b59c-214f82867504"
      },
      "execution_count": 15,
      "outputs": [
        {
          "output_type": "stream",
          "name": "stdout",
          "text": [
            "[6, 7, 8, 9]\n"
          ]
        }
      ]
    },
    {
      "cell_type": "markdown",
      "source": [
        "# dictionary\n",
        "- 참조 정보\n",
        "- key-value 구조 (데이터 하나하나 이름을 지어주는 것)\n",
        "- 인덱스가 없는 대신 키 값을 통해 해당 데이터 찾음"
      ],
      "metadata": {
        "id": "tJhmpoCBLd3F"
      }
    },
    {
      "cell_type": "code",
      "source": [
        "bag = dict()\n",
        "print(bag)\n",
        "bag['money'] = 100\n",
        "bag['gun'] = 2\n",
        "print(bag)\n",
        "bag['gun']  #키 값 통해 해당 데이터 찾기"
      ],
      "metadata": {
        "id": "qX-OxMegYNAI",
        "colab": {
          "base_uri": "https://localhost:8080/"
        },
        "outputId": "87a7dcdd-ba53-4bed-9a6d-3bb5af599187"
      },
      "execution_count": 16,
      "outputs": [
        {
          "output_type": "stream",
          "name": "stdout",
          "text": [
            "{}\n",
            "{'money': 100, 'gun': 2}\n"
          ]
        },
        {
          "output_type": "execute_result",
          "data": {
            "text/plain": [
              "2"
            ]
          },
          "metadata": {},
          "execution_count": 16
        }
      ]
    },
    {
      "cell_type": "code",
      "source": [
        "dic = dict()\n",
        "dic['age'] = 20\n",
        "dic['status'] = 'student'\n",
        "dic['name'] = 'James'\n",
        "print(dic)"
      ],
      "metadata": {
        "colab": {
          "base_uri": "https://localhost:8080/"
        },
        "id": "t2gYDgZDLZPr",
        "outputId": "18f2e856-d016-46aa-f65d-4333dc648ade"
      },
      "execution_count": 17,
      "outputs": [
        {
          "output_type": "stream",
          "name": "stdout",
          "text": [
            "{'age': 20, 'status': 'student', 'name': 'James'}\n"
          ]
        }
      ]
    },
    {
      "cell_type": "markdown",
      "source": [
        "# Numpy\n",
        "- 배열을 효율적으로 다루는 파이썬의 대표 패키지\n",
        "- N차원의 사각형 매트릭스 형태 자료 처리"
      ],
      "metadata": {
        "id": "O0y6GsEoMCMb"
      }
    },
    {
      "cell_type": "code",
      "source": [
        "import numpy as np"
      ],
      "metadata": {
        "id": "JyKyfFBVNUrz"
      },
      "execution_count": 18,
      "outputs": []
    },
    {
      "cell_type": "markdown",
      "source": [
        "# 배열(행렬) 만들기"
      ],
      "metadata": {
        "id": "Jz6c6FIDNQeH"
      }
    },
    {
      "cell_type": "code",
      "source": [
        "number = np.array(range(1, 11))  # array 생성\n",
        "print(type(number))\n",
        "print(number)"
      ],
      "metadata": {
        "colab": {
          "base_uri": "https://localhost:8080/"
        },
        "id": "ccl6iVLMLgls",
        "outputId": "9e5a9bfe-145d-4d95-a123-51c8909fa1d0"
      },
      "execution_count": 19,
      "outputs": [
        {
          "output_type": "stream",
          "name": "stdout",
          "text": [
            "<class 'numpy.ndarray'>\n",
            "[ 1  2  3  4  5  6  7  8  9 10]\n"
          ]
        }
      ]
    },
    {
      "cell_type": "code",
      "source": [
        "print(np.empty([3, 3]))  # 내용물이 항상 0인 것은 아님"
      ],
      "metadata": {
        "colab": {
          "base_uri": "https://localhost:8080/"
        },
        "id": "F-Rn9NE3L1Vv",
        "outputId": "fafbb0f0-d021-421b-cd67-00921afeeee8"
      },
      "execution_count": 20,
      "outputs": [
        {
          "output_type": "stream",
          "name": "stdout",
          "text": [
            "[[1.98497474e-316 0.00000000e+000 0.00000000e+000]\n",
            " [0.00000000e+000 0.00000000e+000 0.00000000e+000]\n",
            " [0.00000000e+000 0.00000000e+000 0.00000000e+000]]\n"
          ]
        }
      ]
    },
    {
      "cell_type": "code",
      "source": [
        "a = np.ones([2, 4])\n",
        "print(a)\n",
        "print(a.shape)  # 2x4 행렬\n",
        "print(a.ndim)  # row dim이 2개\n",
        "print(a.dtype)  # 데이터 타입"
      ],
      "metadata": {
        "colab": {
          "base_uri": "https://localhost:8080/"
        },
        "id": "FFjOwmJnMCb0",
        "outputId": "478e4ed6-58e4-465b-ba77-08ab8a567cd0"
      },
      "execution_count": 21,
      "outputs": [
        {
          "output_type": "stream",
          "name": "stdout",
          "text": [
            "[[1. 1. 1. 1.]\n",
            " [1. 1. 1. 1.]]\n",
            "(2, 4)\n",
            "2\n",
            "float64\n"
          ]
        }
      ]
    },
    {
      "cell_type": "code",
      "source": [
        "# 단위행렬 (identity matrix)\n",
        "eye = np.eye(3,3,k=0)\n",
        "print(eye)"
      ],
      "metadata": {
        "colab": {
          "base_uri": "https://localhost:8080/"
        },
        "id": "yf4HtjgyMMBP",
        "outputId": "10e5fb18-9c1a-410e-a176-b0e4b04883c4"
      },
      "execution_count": 22,
      "outputs": [
        {
          "output_type": "stream",
          "name": "stdout",
          "text": [
            "[[1. 0. 0.]\n",
            " [0. 1. 0.]\n",
            " [0. 0. 1.]]\n"
          ]
        }
      ]
    },
    {
      "cell_type": "code",
      "source": [
        "# Numpy 배열의 타입은 언제나 변형 가능 (ex. float-> integer)\n",
        "a = np.arange(1, 5, 0.05)\n",
        "print(a)\n",
        "a_int = a.astype(int)\n",
        "print(a_int)"
      ],
      "metadata": {
        "colab": {
          "base_uri": "https://localhost:8080/"
        },
        "id": "ZyxeHOfqMObN",
        "outputId": "762a6c49-845b-4d84-9911-82f146253711"
      },
      "execution_count": 23,
      "outputs": [
        {
          "output_type": "stream",
          "name": "stdout",
          "text": [
            "[1.   1.05 1.1  1.15 1.2  1.25 1.3  1.35 1.4  1.45 1.5  1.55 1.6  1.65\n",
            " 1.7  1.75 1.8  1.85 1.9  1.95 2.   2.05 2.1  2.15 2.2  2.25 2.3  2.35\n",
            " 2.4  2.45 2.5  2.55 2.6  2.65 2.7  2.75 2.8  2.85 2.9  2.95 3.   3.05\n",
            " 3.1  3.15 3.2  3.25 3.3  3.35 3.4  3.45 3.5  3.55 3.6  3.65 3.7  3.75\n",
            " 3.8  3.85 3.9  3.95 4.   4.05 4.1  4.15 4.2  4.25 4.3  4.35 4.4  4.45\n",
            " 4.5  4.55 4.6  4.65 4.7  4.75 4.8  4.85 4.9  4.95]\n",
            "[1 1 1 1 1 1 1 1 1 1 1 1 1 1 1 1 1 1 1 1 2 2 2 2 2 2 2 2 2 2 2 2 2 2 2 2 2\n",
            " 2 2 2 3 3 3 3 3 3 3 3 3 3 3 3 3 3 3 3 3 3 3 3 4 4 4 4 4 4 4 4 4 4 4 4 4 4\n",
            " 4 4 4 4 4 4]\n"
          ]
        }
      ]
    },
    {
      "cell_type": "code",
      "source": [
        "# 모양과 방향 언제나 변형 가능\n",
        "names = np.array([\"유비\", \"관우\", \"장비\", \"조운\", \"제갈량\", \"마초\"])\n",
        "print(names)"
      ],
      "metadata": {
        "colab": {
          "base_uri": "https://localhost:8080/"
        },
        "id": "jka05-VjMlfW",
        "outputId": "43734548-4710-40fe-f6b9-11d688b4694c"
      },
      "execution_count": 24,
      "outputs": [
        {
          "output_type": "stream",
          "name": "stdout",
          "text": [
            "['유비' '관우' '장비' '조운' '제갈량' '마초']\n"
          ]
        }
      ]
    },
    {
      "cell_type": "code",
      "source": [
        "print(names.reshape(3,2))  # reshape 함수 : 배열의 모양 변경"
      ],
      "metadata": {
        "colab": {
          "base_uri": "https://localhost:8080/"
        },
        "id": "y4PA80C6ORGO",
        "outputId": "e367ccc0-6126-48e7-c9a2-6ff3cd3570d9"
      },
      "execution_count": 25,
      "outputs": [
        {
          "output_type": "stream",
          "name": "stdout",
          "text": [
            "[['유비' '관우']\n",
            " ['장비' '조운']\n",
            " ['제갈량' '마초']]\n"
          ]
        }
      ]
    },
    {
      "cell_type": "code",
      "source": [
        "print(names.reshape(3, 1, 2))  # array 3개로도 나눌 수 있음"
      ],
      "metadata": {
        "colab": {
          "base_uri": "https://localhost:8080/"
        },
        "id": "OHmIW1cNOihs",
        "outputId": "1706ebb1-b203-4d8e-f756-084cc2caa8c6"
      },
      "execution_count": 26,
      "outputs": [
        {
          "output_type": "stream",
          "name": "stdout",
          "text": [
            "[[['유비' '관우']]\n",
            "\n",
            " [['장비' '조운']]\n",
            "\n",
            " [['제갈량' '마초']]]\n"
          ]
        }
      ]
    },
    {
      "cell_type": "code",
      "source": [
        "print(names.reshape(3,2).T)  # .T를 활용하여 transpose(전치)"
      ],
      "metadata": {
        "colab": {
          "base_uri": "https://localhost:8080/"
        },
        "id": "In3wcLjJOuiC",
        "outputId": "26263433-edfe-4f23-a428-f841c8f32291"
      },
      "execution_count": 27,
      "outputs": [
        {
          "output_type": "stream",
          "name": "stdout",
          "text": [
            "[['유비' '장비' '제갈량']\n",
            " ['관우' '조운' '마초']]\n"
          ]
        }
      ]
    },
    {
      "cell_type": "markdown",
      "source": [
        "# indexing & slicing\n",
        "- Numpy 배열은 list와 마찬가지로 indexing[i] & slicing[i:j] 지원\n",
        "- Boolean indexing 가능\n",
        "- 데이터 전처리 (특히 cleansing) 하는 작업에서 많이 활용됨"
      ],
      "metadata": {
        "id": "9WmahnpSO0n_"
      }
    },
    {
      "cell_type": "code",
      "source": [
        "dirty = np.array([4.4, 5, 1, 3.5, 2, 9, 1.1])\n",
        "len(dirty)"
      ],
      "metadata": {
        "colab": {
          "base_uri": "https://localhost:8080/"
        },
        "id": "_ogz4uexM1Ej",
        "outputId": "1d3f0fe0-c8d8-455f-dd78-22c24450be0f"
      },
      "execution_count": 28,
      "outputs": [
        {
          "output_type": "execute_result",
          "data": {
            "text/plain": [
              "7"
            ]
          },
          "metadata": {},
          "execution_count": 28
        }
      ]
    },
    {
      "cell_type": "code",
      "source": [
        "select = dirty<2.5  # dirty 라는 array에서 2.5보다 작은가?\n",
        "print(select)"
      ],
      "metadata": {
        "colab": {
          "base_uri": "https://localhost:8080/"
        },
        "id": "rRjFK1C9M_FZ",
        "outputId": "2d8aac00-91f5-4587-b83b-52c4634dcf20"
      },
      "execution_count": 29,
      "outputs": [
        {
          "output_type": "stream",
          "name": "stdout",
          "text": [
            "[False False  True False  True False  True]\n"
          ]
        }
      ]
    },
    {
      "cell_type": "code",
      "source": [
        "print(dirty[select])"
      ],
      "metadata": {
        "colab": {
          "base_uri": "https://localhost:8080/"
        },
        "id": "tMmOC7HaNEuf",
        "outputId": "0a54eae2-3d08-450e-d5ef-f5d074445898"
      },
      "execution_count": 30,
      "outputs": [
        {
          "output_type": "stream",
          "name": "stdout",
          "text": [
            "[1.  2.  1.1]\n"
          ]
        }
      ]
    },
    {
      "cell_type": "code",
      "source": [
        "dirty[select] = 0  # True에 해당하는 데이터들을 0으로 대체\n",
        "print(dirty)"
      ],
      "metadata": {
        "colab": {
          "base_uri": "https://localhost:8080/"
        },
        "id": "jfSSKlFDPa12",
        "outputId": "27ba9251-7e6f-4f20-994e-ee22830a3b70"
      },
      "execution_count": 31,
      "outputs": [
        {
          "output_type": "stream",
          "name": "stdout",
          "text": [
            "[4.4 5.  0.  3.5 0.  9.  0. ]\n"
          ]
        }
      ]
    },
    {
      "cell_type": "code",
      "source": [
        "print(names)\n",
        "print(names[[1, 3, -1]])  # 위치가 1, 3인 값과 제일 마지막값(-1) 호출"
      ],
      "metadata": {
        "colab": {
          "base_uri": "https://localhost:8080/"
        },
        "id": "pzi5_-egNIvC",
        "outputId": "9ed2ed02-f4f3-435b-d069-05ebb2f14766"
      },
      "execution_count": 32,
      "outputs": [
        {
          "output_type": "stream",
          "name": "stdout",
          "text": [
            "['유비' '관우' '장비' '조운' '제갈량' '마초']\n",
            "['관우' '조운' '마초']\n"
          ]
        }
      ]
    },
    {
      "cell_type": "code",
      "source": [
        "names_re = names.reshape(3,2)\n",
        "print(names_re)\n",
        "print(names_re[:,0]) # 첫번째 열의 모든 행 가져오기\n",
        "print(names_re[1,:]) # 두번째 행의 모든 열 가져오기"
      ],
      "metadata": {
        "colab": {
          "base_uri": "https://localhost:8080/"
        },
        "id": "RrAvbQoQQCtl",
        "outputId": "b9a9e8b2-9397-4149-b8f1-5723d13bf927"
      },
      "execution_count": 33,
      "outputs": [
        {
          "output_type": "stream",
          "name": "stdout",
          "text": [
            "[['유비' '관우']\n",
            " ['장비' '조운']\n",
            " ['제갈량' '마초']]\n",
            "['유비' '장비' '제갈량']\n",
            "['장비' '조운']\n"
          ]
        }
      ]
    },
    {
      "cell_type": "markdown",
      "source": [
        "# Broadcasting\n",
        "- 차원이 같다면 Numpy 배열은 다른 배열과 벡터화된 사칙연산 가능 (선형대수에서 매우 중요)\n",
        "- list 활용시 어려움\n",
        "- 배열에서 벡터의 연산을 브로드캐스팅이라고 함"
      ],
      "metadata": {
        "id": "6wBBsi-zQ2p_"
      }
    },
    {
      "cell_type": "code",
      "source": [
        "a = np.arange(4)\n",
        "print(a)\n",
        "b = np.arange(1, 5)\n",
        "print(b)\n",
        "\n",
        "# 벡터의 합\n",
        "print(a+b)\n",
        "# 벡터의 상수곱\n",
        "print(a*5)\n",
        "# 벡터의 나누기\n",
        "print(b/5)\n",
        "# 벡터간 곱 \n",
        "print(a*b)  # 각 요소별로 곱해짐 -> 즉, 개체수가 다르면 에러 발생"
      ],
      "metadata": {
        "colab": {
          "base_uri": "https://localhost:8080/"
        },
        "id": "GweDtXhBNKcK",
        "outputId": "2abd1ebd-7f8b-47dc-8a94-1f0334504225"
      },
      "execution_count": 34,
      "outputs": [
        {
          "output_type": "stream",
          "name": "stdout",
          "text": [
            "[0 1 2 3]\n",
            "[1 2 3 4]\n",
            "[1 3 5 7]\n",
            "[ 0  5 10 15]\n",
            "[0.2 0.4 0.6 0.8]\n",
            "[ 0  2  6 12]\n"
          ]
        }
      ]
    },
    {
      "cell_type": "code",
      "source": [
        "# 배열과 스칼라에 서로 다른 사칙연산을 조합해보자\n",
        "\n",
        "# 대각행렬을 만들고 약간의 잡음 넣기\n",
        "noise = np.eye(4) + 0.01*np.random.random([4,4])  # 작은 난수 생성하여 단위행렬에 더함\n",
        "print(noise)\n",
        "print(np.round(noise, 2))  # 소수점 둘째자리 기준으로 반올림"
      ],
      "metadata": {
        "colab": {
          "base_uri": "https://localhost:8080/"
        },
        "id": "riSsJ9cZNqCl",
        "outputId": "4afab786-64fb-4c21-d8d0-3eeaf2245cdc"
      },
      "execution_count": 35,
      "outputs": [
        {
          "output_type": "stream",
          "name": "stdout",
          "text": [
            "[[1.00435027e+00 5.43249831e-03 9.12371988e-03 4.92894787e-03]\n",
            " [5.40184565e-05 1.00312973e+00 2.32406260e-03 3.15343258e-03]\n",
            " [5.43602621e-03 8.82983189e-03 1.00846675e+00 3.41790472e-03]\n",
            " [5.93447239e-03 6.94141722e-03 1.55116349e-03 1.00355287e+00]]\n",
            "[[1.   0.01 0.01 0.  ]\n",
            " [0.   1.   0.   0.  ]\n",
            " [0.01 0.01 1.01 0.  ]\n",
            " [0.01 0.01 0.   1.  ]]\n"
          ]
        }
      ]
    },
    {
      "cell_type": "markdown",
      "source": [
        "# ufunc (유니버셜 함수)\n",
        "- 벡터화된 유니버셜함수는 브로드캐스팅의 함수버전\n",
        "- Numpy는 다양한 ufunc 제공\n",
        "- 사칙연산 : add/multiply/negative/exp/log/sqrt ...\n",
        "- 삼각함수 : sin/cos/hypot…\n",
        "- 관계형 연산 : less/greater/logical_not/equal …\n",
        "- 최대/최소값 : maximum/minimum\n",
        "- 자료의 확인 : isinf/isfinite,floor,isnan "
      ],
      "metadata": {
        "id": "GvETpb9RSCVO"
      }
    },
    {
      "cell_type": "code",
      "source": [
        "stock = np.array([140.49, 0.97, 40.68, 41.53, 55.7, 98.2, 99.19, 109.96, 111.47, 35.71, 36.27, 87.85, 89.11,30.22])"
      ],
      "metadata": {
        "id": "vXBoEpXTN1W6"
      },
      "execution_count": 36,
      "outputs": []
    },
    {
      "cell_type": "code",
      "source": [
        "stock = stock.reshape(7, 2).T\n",
        "stock"
      ],
      "metadata": {
        "colab": {
          "base_uri": "https://localhost:8080/"
        },
        "id": "nn1OMPVUTCT-",
        "outputId": "766ea6d8-9a10-4e80-ebd4-a002af6aab76"
      },
      "execution_count": 37,
      "outputs": [
        {
          "output_type": "execute_result",
          "data": {
            "text/plain": [
              "array([[140.49,  40.68,  55.7 ,  99.19, 111.47,  36.27,  89.11],\n",
              "       [  0.97,  41.53,  98.2 , 109.96,  35.71,  87.85,  30.22]])"
            ]
          },
          "metadata": {},
          "execution_count": 37
        }
      ]
    },
    {
      "cell_type": "code",
      "source": [
        "np.greater(stock[0], 100)  # 첫번째 행에서 100보다 큰지?"
      ],
      "metadata": {
        "colab": {
          "base_uri": "https://localhost:8080/"
        },
        "id": "MojFs26fTOrk",
        "outputId": "ccad9087-8696-4263-811b-e570ab62afa9"
      },
      "execution_count": 38,
      "outputs": [
        {
          "output_type": "execute_result",
          "data": {
            "text/plain": [
              "array([ True, False, False, False,  True, False, False])"
            ]
          },
          "metadata": {},
          "execution_count": 38
        }
      ]
    },
    {
      "cell_type": "code",
      "source": [
        "np.greater(stock[:,0], 100)  # 첫번째 열에서 100보다 큰지?"
      ],
      "metadata": {
        "colab": {
          "base_uri": "https://localhost:8080/"
        },
        "id": "H4vFRRaRTXXU",
        "outputId": "74b6884c-8756-4594-be8f-3ff2e41795d2"
      },
      "execution_count": 39,
      "outputs": [
        {
          "output_type": "execute_result",
          "data": {
            "text/plain": [
              "array([ True, False])"
            ]
          },
          "metadata": {},
          "execution_count": 39
        }
      ]
    },
    {
      "cell_type": "code",
      "source": [
        "np.cos(stock)"
      ],
      "metadata": {
        "colab": {
          "base_uri": "https://localhost:8080/"
        },
        "id": "ESqZz8_eTdWw",
        "outputId": "f1d3a948-1da9-4784-e73e-69a66d35b61b"
      },
      "execution_count": 40,
      "outputs": [
        {
          "output_type": "execute_result",
          "data": {
            "text/plain": [
              "array([[-0.63586358, -0.9871148 ,  0.66098344,  0.22781337, -0.05650908,\n",
              "         0.14121092,  0.41267663],\n",
              "       [ 0.56529953, -0.77169426, -0.68904363, -0.99999094, -0.40622179,\n",
              "         0.99344126,  0.36615137]])"
            ]
          },
          "metadata": {},
          "execution_count": 40
        }
      ]
    },
    {
      "cell_type": "code",
      "source": [
        "np.max(stock)"
      ],
      "metadata": {
        "colab": {
          "base_uri": "https://localhost:8080/"
        },
        "id": "jeNqFos8ThBG",
        "outputId": "6cc4a720-ac42-4a98-d04e-44ec3ab03563"
      },
      "execution_count": 41,
      "outputs": [
        {
          "output_type": "execute_result",
          "data": {
            "text/plain": [
              "140.49"
            ]
          },
          "metadata": {},
          "execution_count": 41
        }
      ]
    },
    {
      "cell_type": "code",
      "source": [
        "np.isnan(stock)"
      ],
      "metadata": {
        "colab": {
          "base_uri": "https://localhost:8080/"
        },
        "id": "IkDMmd0oTian",
        "outputId": "3970b9fb-5f23-4f21-ad72-28f4d57c076f"
      },
      "execution_count": 42,
      "outputs": [
        {
          "output_type": "execute_result",
          "data": {
            "text/plain": [
              "array([[False, False, False, False, False, False, False],\n",
              "       [False, False, False, False, False, False, False]])"
            ]
          },
          "metadata": {},
          "execution_count": 42
        }
      ]
    },
    {
      "cell_type": "code",
      "source": [
        "np.isfinite(stock)"
      ],
      "metadata": {
        "colab": {
          "base_uri": "https://localhost:8080/"
        },
        "id": "z9yecblhTjwk",
        "outputId": "9cecce71-4137-4ee9-9185-3671731f3db3"
      },
      "execution_count": 43,
      "outputs": [
        {
          "output_type": "execute_result",
          "data": {
            "text/plain": [
              "array([[ True,  True,  True,  True,  True,  True,  True],\n",
              "       [ True,  True,  True,  True,  True,  True,  True]])"
            ]
          },
          "metadata": {},
          "execution_count": 43
        }
      ]
    },
    {
      "cell_type": "markdown",
      "source": [
        "# 조건부함수들\n",
        "- where(c, a, b)함수는 numpy의 if~else\n",
        "- where()는 불리안배열(c)과 두 배열(a,b)을 파라미터로 받음"
      ],
      "metadata": {
        "id": "UBagOHZgTn68"
      }
    },
    {
      "cell_type": "code",
      "source": [
        "stock = np.array([140.49, 0.97, 40.68, 41.53, 55.7, 98.2, 99.19, 109.96, 111.47, 35.71, 36.27, 87.85, 89.11,30.22])"
      ],
      "metadata": {
        "id": "5QbXdp8WTk2P"
      },
      "execution_count": 44,
      "outputs": []
    },
    {
      "cell_type": "code",
      "source": [
        "print(np.where(stock>50, 1, 0))  # 50보다 크면 1, 아니면 0으로"
      ],
      "metadata": {
        "colab": {
          "base_uri": "https://localhost:8080/"
        },
        "id": "uHMS3Ob-T6Ho",
        "outputId": "b13af22e-61b9-461d-b681-f235cb28d9d5"
      },
      "execution_count": 45,
      "outputs": [
        {
          "output_type": "stream",
          "name": "stdout",
          "text": [
            "[1 0 0 0 1 1 1 1 1 0 0 1 1 0]\n"
          ]
        }
      ]
    },
    {
      "cell_type": "code",
      "source": [
        "np.where(stock>50, \"T\", \"F\")"
      ],
      "metadata": {
        "colab": {
          "base_uri": "https://localhost:8080/"
        },
        "id": "NOLoASfgOVtk",
        "outputId": "4b1a3983-a5c3-471c-c2e6-0165ac02867b"
      },
      "execution_count": 46,
      "outputs": [
        {
          "output_type": "execute_result",
          "data": {
            "text/plain": [
              "array(['T', 'F', 'F', 'F', 'T', 'T', 'T', 'T', 'T', 'F', 'F', 'T', 'T',\n",
              "       'F'], dtype='<U1')"
            ]
          },
          "metadata": {},
          "execution_count": 46
        }
      ]
    },
    {
      "cell_type": "code",
      "source": [
        "np.any(stock<0)  # 0보다 작은 요소가 있나?"
      ],
      "metadata": {
        "colab": {
          "base_uri": "https://localhost:8080/"
        },
        "id": "3x-NCq7dOY5x",
        "outputId": "d4b8d656-3eeb-4b19-c496-46f27af403e2"
      },
      "execution_count": 47,
      "outputs": [
        {
          "output_type": "execute_result",
          "data": {
            "text/plain": [
              "False"
            ]
          },
          "metadata": {},
          "execution_count": 47
        }
      ]
    },
    {
      "cell_type": "code",
      "source": [
        "np.all(stock>0.5)  # 모든 요소가 0.5보다 큰가?"
      ],
      "metadata": {
        "colab": {
          "base_uri": "https://localhost:8080/"
        },
        "id": "kGr2hvNKOd3r",
        "outputId": "1933adc3-aa0b-46e3-f329-dfe52a313081"
      },
      "execution_count": 48,
      "outputs": [
        {
          "output_type": "execute_result",
          "data": {
            "text/plain": [
              "True"
            ]
          },
          "metadata": {},
          "execution_count": 48
        }
      ]
    },
    {
      "cell_type": "code",
      "source": [
        "# 0이 아닌 모든 요소의 인덱스 반환\n",
        "np.nonzero(stock)"
      ],
      "metadata": {
        "colab": {
          "base_uri": "https://localhost:8080/"
        },
        "id": "GtL0mi08UU99",
        "outputId": "ee0a9337-2ca1-4efd-c1a6-3f377085752f"
      },
      "execution_count": 49,
      "outputs": [
        {
          "output_type": "execute_result",
          "data": {
            "text/plain": [
              "(array([ 0,  1,  2,  3,  4,  5,  6,  7,  8,  9, 10, 11, 12, 13]),)"
            ]
          },
          "metadata": {},
          "execution_count": 49
        }
      ]
    },
    {
      "cell_type": "markdown",
      "source": [
        "# 배열 집계 및 정렬\n",
        "- 데이터 과학의 핵심\n",
        "- 빅데이터로부터 구간화, 평균 계산, 선택된 데이터의 누적 등 우리가 이해하기 쉬운 방식으로 데이터 전처리"
      ],
      "metadata": {
        "id": "9vQ1Aq78UY79"
      }
    },
    {
      "cell_type": "code",
      "source": [
        "np.sum(stock)"
      ],
      "metadata": {
        "id": "V9gRsNqOOfvO",
        "colab": {
          "base_uri": "https://localhost:8080/"
        },
        "outputId": "7a7111a3-382d-4037-a4d7-713fd695ebcb"
      },
      "execution_count": 50,
      "outputs": [
        {
          "output_type": "execute_result",
          "data": {
            "text/plain": [
              "977.3500000000001"
            ]
          },
          "metadata": {},
          "execution_count": 50
        }
      ]
    },
    {
      "cell_type": "code",
      "source": [
        "np.min(stock)"
      ],
      "metadata": {
        "colab": {
          "base_uri": "https://localhost:8080/"
        },
        "id": "IFu88v9MO3LF",
        "outputId": "f22daff3-82a4-4073-882a-91eca5622104"
      },
      "execution_count": 51,
      "outputs": [
        {
          "output_type": "execute_result",
          "data": {
            "text/plain": [
              "0.97"
            ]
          },
          "metadata": {},
          "execution_count": 51
        }
      ]
    },
    {
      "cell_type": "code",
      "source": [
        "np.std(stock)"
      ],
      "metadata": {
        "colab": {
          "base_uri": "https://localhost:8080/"
        },
        "id": "kQCD3Ty1UjHx",
        "outputId": "51204a55-0000-4728-9d0c-c17728a8c64d"
      },
      "execution_count": 52,
      "outputs": [
        {
          "output_type": "execute_result",
          "data": {
            "text/plain": [
              "38.86957246710478"
            ]
          },
          "metadata": {},
          "execution_count": 52
        }
      ]
    },
    {
      "cell_type": "code",
      "source": [
        "import matplotlib.pyplot as plt\n",
        "# 누적합\n",
        "a = np.cumsum(stock)\n",
        "plt.plot(a)"
      ],
      "metadata": {
        "colab": {
          "base_uri": "https://localhost:8080/",
          "height": 285
        },
        "id": "n_bYVy3QO_o4",
        "outputId": "33a3fc4e-31ae-499a-e0c9-05be338dfb5c"
      },
      "execution_count": 53,
      "outputs": [
        {
          "output_type": "execute_result",
          "data": {
            "text/plain": [
              "[<matplotlib.lines.Line2D at 0x7fda8c60a5d0>]"
            ]
          },
          "metadata": {},
          "execution_count": 53
        },
        {
          "output_type": "display_data",
          "data": {
            "text/plain": [
              "<Figure size 432x288 with 1 Axes>"
            ],
            "image/png": "[encoded data removed]"
          },
          "metadata": {
            "needs_background": "light"
          }
        }
      ]
    },
    {
      "cell_type": "code",
      "source": [
        "# 누적곱\n",
        "b = np.cumproduct(stock)\n",
        "plt.plot(b)"
      ],
      "metadata": {
        "colab": {
          "base_uri": "https://localhost:8080/",
          "height": 295
        },
        "id": "u-sbsHo6PG_H",
        "outputId": "ced020be-76cc-4071-fbbc-40d3d3fb58dc"
      },
      "execution_count": 54,
      "outputs": [
        {
          "output_type": "execute_result",
          "data": {
            "text/plain": [
              "[<matplotlib.lines.Line2D at 0x7fda8c0c0bd0>]"
            ]
          },
          "metadata": {},
          "execution_count": 54
        },
        {
          "output_type": "display_data",
          "data": {
            "text/plain": [
              "<Figure size 432x288 with 1 Axes>"
            ],
            "image/png": "[encoded data removed]"
          },
          "metadata": {
            "needs_background": "light"
          }
        }
      ]
    },
    {
      "cell_type": "code",
      "source": [
        "np.sort(stock) # 작은 수부터 정렬"
      ],
      "metadata": {
        "colab": {
          "base_uri": "https://localhost:8080/"
        },
        "id": "5gFcxqpjUsXB",
        "outputId": "ed96b964-5a7f-417f-c633-dae55bbec136"
      },
      "execution_count": 55,
      "outputs": [
        {
          "output_type": "execute_result",
          "data": {
            "text/plain": [
              "array([  0.97,  30.22,  35.71,  36.27,  40.68,  41.53,  55.7 ,  87.85,\n",
              "        89.11,  98.2 ,  99.19, 109.96, 111.47, 140.49])"
            ]
          },
          "metadata": {},
          "execution_count": 55
        }
      ]
    },
    {
      "cell_type": "code",
      "source": [
        "stock[np.argsort(-stock)]  # 큰 수부터 정렬"
      ],
      "metadata": {
        "colab": {
          "base_uri": "https://localhost:8080/"
        },
        "id": "FopXZAwxU3Wi",
        "outputId": "1b20883d-b276-4672-f4e8-db5c7def7205"
      },
      "execution_count": 56,
      "outputs": [
        {
          "output_type": "execute_result",
          "data": {
            "text/plain": [
              "array([140.49, 111.47, 109.96,  99.19,  98.2 ,  89.11,  87.85,  55.7 ,\n",
              "        41.53,  40.68,  36.27,  35.71,  30.22,   0.97])"
            ]
          },
          "metadata": {},
          "execution_count": 56
        }
      ]
    }
  ]
}