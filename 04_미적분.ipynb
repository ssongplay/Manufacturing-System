{
  "nbformat": 4,
  "nbformat_minor": 0,
  "metadata": {
    "colab": {
      "name": "04_미적분.ipynb",
      "provenance": [],
      "collapsed_sections": [],
      "authorship_tag": "ABX9TyPAarXfdKoWq6ObHhJWes4d",
      "include_colab_link": true
    },
    "kernelspec": {
      "name": "python3",
      "display_name": "Python 3"
    },
    "language_info": {
      "name": "python"
    }
  },
  "cells": [
    {
      "cell_type": "markdown",
      "metadata": {
        "id": "view-in-github",
        "colab_type": "text"
      },
      "source": [
        "<a href=\"https://colab.research.google.com/github/ssongplay/Manufacturing-System-lab/blob/main/04_%EB%AF%B8%EC%A0%81%EB%B6%84.ipynb\" target=\"_parent\"><img src=\"https://colab.research.google.com/assets/colab-badge.svg\" alt=\"Open In Colab\"/></a>"
      ]
    },
    {
      "cell_type": "markdown",
      "source": [
        "# 수치 미분 개념 (유한 차분)\n",
        "- 수치 미분은 특정함수의 한 점에서 그 함수와 만나는 접선의 기울기를 구하는 것 "
      ],
      "metadata": {
        "id": "W48CfhPzQKcS"
      }
    },
    {
      "cell_type": "code",
      "execution_count": 1,
      "metadata": {
        "id": "1dhwkSo-xh7u"
      },
      "outputs": [],
      "source": [
        "import matplotlib.pyplot as plt\n",
        "import numpy as np"
      ]
    },
    {
      "cell_type": "code",
      "source": [
        "def fd(f, x, h=0.001):\n",
        "  return f(x+h)-f(x)/h"
      ],
      "metadata": {
        "id": "0XvOIQYQQVkP"
      },
      "execution_count": 2,
      "outputs": []
    },
    {
      "cell_type": "code",
      "source": [
        "# ex) f(x) = -x^2 + 6x – 6이라는 함수가 있을 때, x = 2에서의 접선 기울기는 ?\n",
        "\n",
        "x = np.arange(1, 5, 0.01)\n",
        "def ff(x):\n",
        "  result = -x**2 + 6*x - 6\n",
        "  return result"
      ],
      "metadata": {
        "id": "iJVmRImxO8aI"
      },
      "execution_count": 3,
      "outputs": []
    },
    {
      "cell_type": "code",
      "source": [
        "ff(1)"
      ],
      "metadata": {
        "id": "eLDUU48MPh5N",
        "colab": {
          "base_uri": "https://localhost:8080/"
        },
        "outputId": "07a4bf20-aa2e-4f5e-9291-bac85e70f5e7"
      },
      "execution_count": 4,
      "outputs": [
        {
          "output_type": "execute_result",
          "data": {
            "text/plain": [
              "-1"
            ]
          },
          "metadata": {},
          "execution_count": 4
        }
      ]
    },
    {
      "cell_type": "code",
      "source": [
        "plt.plot(x, ff(x))\n",
        "plt.title('-x^2 + 6x - 6')"
      ],
      "metadata": {
        "id": "ejbCBcJzPi2H",
        "colab": {
          "base_uri": "https://localhost:8080/",
          "height": 300
        },
        "outputId": "18a5a020-d8cb-40ef-eaae-41ee49ebdfac"
      },
      "execution_count": 5,
      "outputs": [
        {
          "output_type": "execute_result",
          "data": {
            "text/plain": [
              "Text(0.5, 1.0, '-x^2 + 6x - 6')"
            ]
          },
          "metadata": {},
          "execution_count": 5
        },
        {
          "output_type": "display_data",
          "data": {
            "text/plain": [
              "<Figure size 432x288 with 1 Axes>"
            ],
            "image/png": "[encoded data removed]"
          },
          "metadata": {
            "needs_background": "light"
          }
        }
      ]
    },
    {
      "cell_type": "code",
      "source": [
        "import sympy as sp"
      ],
      "metadata": {
        "id": "rJmT8GmPPmur"
      },
      "execution_count": 6,
      "outputs": []
    },
    {
      "cell_type": "code",
      "source": [
        "x = sp.Symbol('x')\n",
        "eq = -x**2 + 6*x - 6\n",
        "diff_eq = sp.diff(eq)\n",
        "print(diff_eq)"
      ],
      "metadata": {
        "id": "4RSlLid5P1V7",
        "colab": {
          "base_uri": "https://localhost:8080/"
        },
        "outputId": "14dd93c2-508d-4ccd-8aca-6e432dd93509"
      },
      "execution_count": 7,
      "outputs": [
        {
          "output_type": "stream",
          "name": "stdout",
          "text": [
            "6 - 2*x\n"
          ]
        }
      ]
    },
    {
      "cell_type": "code",
      "source": [
        "from scipy.misc import derivative\n",
        "def f(x):\n",
        "  return -x**2 + 6*x - 6\n",
        "deriv_eq = derivative(f, 2)\n",
        "print(deriv_eq)"
      ],
      "metadata": {
        "id": "c4drDEOmQAxn",
        "colab": {
          "base_uri": "https://localhost:8080/"
        },
        "outputId": "aecf511c-3c34-4ac8-de16-0958ad84c615"
      },
      "execution_count": 8,
      "outputs": [
        {
          "output_type": "stream",
          "name": "stdout",
          "text": [
            "2.0\n"
          ]
        }
      ]
    },
    {
      "cell_type": "code",
      "source": [
        "eq = x**5 - (1/x) + (sp.cos(x))**2\n",
        "diff_eq = sp.diff(eq, x)   #다변수 함수의 미분 가능\n",
        "print(diff_eq)"
      ],
      "metadata": {
        "id": "D34Ir2O_QRRZ",
        "colab": {
          "base_uri": "https://localhost:8080/"
        },
        "outputId": "4afeca53-bcd5-4945-cb71-d63f9df07416"
      },
      "execution_count": 9,
      "outputs": [
        {
          "output_type": "stream",
          "name": "stdout",
          "text": [
            "5*x**4 - 2*sin(x)*cos(x) + x**(-2)\n"
          ]
        }
      ]
    },
    {
      "cell_type": "code",
      "source": [
        "x, y = sp.symbols('x y')\n",
        "f = (x*y)**5 + -1/x**2 + sp.cos(x)**x\n",
        "print(f)\n",
        "sp.diff(f, x)"
      ],
      "metadata": {
        "id": "A5lAXkTDQgfH",
        "colab": {
          "base_uri": "https://localhost:8080/",
          "height": 77
        },
        "outputId": "efc7fc47-c83b-4129-f9e4-634ec28505a7"
      },
      "execution_count": 10,
      "outputs": [
        {
          "output_type": "stream",
          "name": "stdout",
          "text": [
            "x**5*y**5 + cos(x)**x - 1/x**2\n"
          ]
        },
        {
          "output_type": "execute_result",
          "data": {
            "text/plain": [
              "5*x**4*y**5 + (-x*sin(x)/cos(x) + log(cos(x)))*cos(x)**x + 2/x**3"
            ],
            "text/latex": "$\\displaystyle 5 x^{4} y^{5} + \\left(- \\frac{x \\sin{\\left(x \\right)}}{\\cos{\\left(x \\right)}} + \\log{\\left(\\cos{\\left(x \\right)} \\right)}\\right) \\cos^{x}{\\left(x \\right)} + \\frac{2}{x^{3}}$"
          },
          "metadata": {},
          "execution_count": 10
        }
      ]
    },
    {
      "cell_type": "markdown",
      "source": [
        "# 적분"
      ],
      "metadata": {
        "id": "yektARYCRHtY"
      }
    },
    {
      "cell_type": "code",
      "source": [
        "# fx = x**2 + 3*x (0, 10) integrate\n",
        "\n",
        "def f(x):\n",
        "  x**2 + 3*x\n",
        "\n",
        "x = sp.Symbol('x')\n",
        "fx = x**2 + 3*x \n",
        "print(fx)"
      ],
      "metadata": {
        "id": "Uk5XJNTlQp18",
        "colab": {
          "base_uri": "https://localhost:8080/"
        },
        "outputId": "80d68527-ae31-4d74-cec7-93c51fb41502"
      },
      "execution_count": 11,
      "outputs": [
        {
          "output_type": "stream",
          "name": "stdout",
          "text": [
            "x**2 + 3*x\n"
          ]
        }
      ]
    },
    {
      "cell_type": "code",
      "source": [
        "inte_fx = sp.integrate(fx)\n",
        "print(inte_fx)"
      ],
      "metadata": {
        "id": "dvDYznAVQ81k",
        "colab": {
          "base_uri": "https://localhost:8080/"
        },
        "outputId": "e8a5bf0d-ee11-40fc-9ebe-b6718b2d127c"
      },
      "execution_count": 12,
      "outputs": [
        {
          "output_type": "stream",
          "name": "stdout",
          "text": [
            "x**3/3 + 3*x**2/2\n"
          ]
        }
      ]
    },
    {
      "cell_type": "code",
      "source": [
        "# 구해진 적분식에 실제 숫자를 넣어서 계산하려면 subs(), evalf() 사용\n",
        "(inte_fx.subs(x, 10) - inte_fx.subs(x, 0)).evalf()"
      ],
      "metadata": {
        "id": "Xfad8OZHRAEq",
        "colab": {
          "base_uri": "https://localhost:8080/",
          "height": 37
        },
        "outputId": "a1743bad-44ef-478c-eef8-60b2600cc6e5"
      },
      "execution_count": 13,
      "outputs": [
        {
          "output_type": "execute_result",
          "data": {
            "text/plain": [
              "483.333333333333"
            ],
            "text/latex": "$\\displaystyle 483.333333333333$"
          },
          "metadata": {},
          "execution_count": 13
        }
      ]
    },
    {
      "cell_type": "code",
      "source": [
        "def fx(x):\n",
        "  return x**4 - 10*(x**3) + 15*(x**2) - 6*x + 10\n",
        "\n",
        "# 여러개의 직사각형을 활용하여 적분하기 (직사각형법)\n",
        "def inte_square(a, b, n):\n",
        "  sum = 0\n",
        "  h = (b-a)/n  # 전체구간 (0~1)을 n개로 나누면 직사각형 밑변의 길이 산출\n",
        "  for i in range(1, n+1, 1):  \n",
        "    sum = sum + h*fx(a + i*h)   #오른쪽 직사각형으로 가면서 높이(f(x))와 h를 곱해가며 더함    \n",
        "  return sum"
      ],
      "metadata": {
        "id": "ejncaN7RRNF7"
      },
      "execution_count": 14,
      "outputs": []
    },
    {
      "cell_type": "code",
      "source": [
        "inte_square(0, 1, 100)"
      ],
      "metadata": {
        "id": "1yg0DIiKRqyd",
        "colab": {
          "base_uri": "https://localhost:8080/"
        },
        "outputId": "85a9bb20-76c0-464f-e5f2-d722e0d4c41d"
      },
      "execution_count": 15,
      "outputs": [
        {
          "output_type": "execute_result",
          "data": {
            "text/plain": [
              "9.700033332999999"
            ]
          },
          "metadata": {},
          "execution_count": 15
        }
      ]
    },
    {
      "cell_type": "code",
      "source": [
        "# 적분 vs 수치적분\n",
        "x = sp.Symbol('x')\n",
        "fx = x**4 - 10*(x**3) + 15*(x**2) - 6*x + 10\n",
        "inte_fx = sp.integrate(fx)\n",
        "\n",
        "(inte_fx.subs(x,1) - inte_fx.subs(x,0)).evalf()"
      ],
      "metadata": {
        "id": "G3AKjMC4RtvT",
        "colab": {
          "base_uri": "https://localhost:8080/",
          "height": 37
        },
        "outputId": "db173588-63d5-419b-e0b5-1c3a609627c0"
      },
      "execution_count": 16,
      "outputs": [
        {
          "output_type": "execute_result",
          "data": {
            "text/plain": [
              "9.70000000000000"
            ],
            "text/latex": "$\\displaystyle 9.7$"
          },
          "metadata": {},
          "execution_count": 16
        }
      ]
    },
    {
      "cell_type": "markdown",
      "source": [
        "# 시뮬레이션을 활용한 수치 적분"
      ],
      "metadata": {
        "id": "pD--2xi7R87D"
      }
    },
    {
      "cell_type": "code",
      "source": [
        "def fx(x) : return x**2"
      ],
      "metadata": {
        "id": "iOJ5Qu6WSCAa"
      },
      "execution_count": 17,
      "outputs": []
    },
    {
      "cell_type": "code",
      "source": [
        "# x = -2~2, y = 0~4 까지의 영역에서 random으로 데이터 생성\n",
        "a, b, c, d = [-2, 2, 0, 4]   \n",
        "x = np.random.uniform(a, b, size=10000)\n",
        "print(x)\n",
        "print(len(x))\n",
        "y = np.random.uniform(c, d, size=10000)\n",
        "print(y)\n",
        "print(len(y))"
      ],
      "metadata": {
        "id": "kJfxGPifSKBZ",
        "colab": {
          "base_uri": "https://localhost:8080/"
        },
        "outputId": "37352bb2-a0c5-4260-c4b5-ab6325666cd8"
      },
      "execution_count": 18,
      "outputs": [
        {
          "output_type": "stream",
          "name": "stdout",
          "text": [
            "[ 1.67054675 -0.97561938 -1.52731025 ... -0.03602857 -1.05061356\n",
            " -1.6926349 ]\n",
            "10000\n",
            "[2.91932177 0.78439751 2.5982941  ... 2.29191594 3.87186951 1.10334709]\n",
            "10000\n"
          ]
        }
      ]
    },
    {
      "cell_type": "code",
      "source": [
        "temp = np.sum(fx(x)>y)/10000  # y값이 f(x)보다 작은 케이스를 전체 케이스에서 나눠줌 (비율 계산)\n",
        "print(temp)\n",
        "print(temp * 16)"
      ],
      "metadata": {
        "colab": {
          "base_uri": "https://localhost:8080/"
        },
        "id": "seqVEyUCSL06",
        "outputId": "69a39469-5591-4f29-d142-a88c940ae0e8"
      },
      "execution_count": 19,
      "outputs": [
        {
          "output_type": "stream",
          "name": "stdout",
          "text": [
            "0.3289\n",
            "5.2624\n"
          ]
        }
      ]
    }
  ]
}