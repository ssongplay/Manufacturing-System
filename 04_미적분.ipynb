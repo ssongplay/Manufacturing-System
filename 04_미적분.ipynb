{
  "nbformat": 4,
  "nbformat_minor": 0,
  "metadata": {
    "colab": {
      "name": "04_미적분.ipynb",
      "provenance": [],
      "collapsed_sections": [],
      "authorship_tag": "ABX9TyMbOL0HOjYjoPph2ix+8xvM",
      "include_colab_link": true
    },
    "kernelspec": {
      "name": "python3",
      "display_name": "Python 3"
    },
    "language_info": {
      "name": "python"
    }
  },
  "cells": [
    {
      "cell_type": "markdown",
      "metadata": {
        "id": "view-in-github",
        "colab_type": "text"
      },
      "source": [
        "<a href=\"https://colab.research.google.com/github/ssongplay/Manufacturing-System-lab/blob/main/04_%EB%AF%B8%EC%A0%81%EB%B6%84.ipynb\" target=\"_parent\"><img src=\"https://colab.research.google.com/assets/colab-badge.svg\" alt=\"Open In Colab\"/></a>"
      ]
    },
    {
      "cell_type": "code",
      "execution_count": 1,
      "metadata": {
        "id": "1dhwkSo-xh7u"
      },
      "outputs": [],
      "source": [
        "import matplotlib.pyplot as plt\n",
        "import numpy as np"
      ]
    },
    {
      "cell_type": "code",
      "source": [
        "x = np.arange(1, 5, 0.01)\n",
        "print(x)"
      ],
      "metadata": {
        "colab": {
          "base_uri": "https://localhost:8080/"
        },
        "id": "iJVmRImxO8aI",
        "outputId": "bf50d5f7-9dac-4c72-dda1-8da6cac380b5"
      },
      "execution_count": 2,
      "outputs": [
        {
          "output_type": "stream",
          "name": "stdout",
          "text": [
            "[1.   1.01 1.02 1.03 1.04 1.05 1.06 1.07 1.08 1.09 1.1  1.11 1.12 1.13\n",
            " 1.14 1.15 1.16 1.17 1.18 1.19 1.2  1.21 1.22 1.23 1.24 1.25 1.26 1.27\n",
            " 1.28 1.29 1.3  1.31 1.32 1.33 1.34 1.35 1.36 1.37 1.38 1.39 1.4  1.41\n",
            " 1.42 1.43 1.44 1.45 1.46 1.47 1.48 1.49 1.5  1.51 1.52 1.53 1.54 1.55\n",
            " 1.56 1.57 1.58 1.59 1.6  1.61 1.62 1.63 1.64 1.65 1.66 1.67 1.68 1.69\n",
            " 1.7  1.71 1.72 1.73 1.74 1.75 1.76 1.77 1.78 1.79 1.8  1.81 1.82 1.83\n",
            " 1.84 1.85 1.86 1.87 1.88 1.89 1.9  1.91 1.92 1.93 1.94 1.95 1.96 1.97\n",
            " 1.98 1.99 2.   2.01 2.02 2.03 2.04 2.05 2.06 2.07 2.08 2.09 2.1  2.11\n",
            " 2.12 2.13 2.14 2.15 2.16 2.17 2.18 2.19 2.2  2.21 2.22 2.23 2.24 2.25\n",
            " 2.26 2.27 2.28 2.29 2.3  2.31 2.32 2.33 2.34 2.35 2.36 2.37 2.38 2.39\n",
            " 2.4  2.41 2.42 2.43 2.44 2.45 2.46 2.47 2.48 2.49 2.5  2.51 2.52 2.53\n",
            " 2.54 2.55 2.56 2.57 2.58 2.59 2.6  2.61 2.62 2.63 2.64 2.65 2.66 2.67\n",
            " 2.68 2.69 2.7  2.71 2.72 2.73 2.74 2.75 2.76 2.77 2.78 2.79 2.8  2.81\n",
            " 2.82 2.83 2.84 2.85 2.86 2.87 2.88 2.89 2.9  2.91 2.92 2.93 2.94 2.95\n",
            " 2.96 2.97 2.98 2.99 3.   3.01 3.02 3.03 3.04 3.05 3.06 3.07 3.08 3.09\n",
            " 3.1  3.11 3.12 3.13 3.14 3.15 3.16 3.17 3.18 3.19 3.2  3.21 3.22 3.23\n",
            " 3.24 3.25 3.26 3.27 3.28 3.29 3.3  3.31 3.32 3.33 3.34 3.35 3.36 3.37\n",
            " 3.38 3.39 3.4  3.41 3.42 3.43 3.44 3.45 3.46 3.47 3.48 3.49 3.5  3.51\n",
            " 3.52 3.53 3.54 3.55 3.56 3.57 3.58 3.59 3.6  3.61 3.62 3.63 3.64 3.65\n",
            " 3.66 3.67 3.68 3.69 3.7  3.71 3.72 3.73 3.74 3.75 3.76 3.77 3.78 3.79\n",
            " 3.8  3.81 3.82 3.83 3.84 3.85 3.86 3.87 3.88 3.89 3.9  3.91 3.92 3.93\n",
            " 3.94 3.95 3.96 3.97 3.98 3.99 4.   4.01 4.02 4.03 4.04 4.05 4.06 4.07\n",
            " 4.08 4.09 4.1  4.11 4.12 4.13 4.14 4.15 4.16 4.17 4.18 4.19 4.2  4.21\n",
            " 4.22 4.23 4.24 4.25 4.26 4.27 4.28 4.29 4.3  4.31 4.32 4.33 4.34 4.35\n",
            " 4.36 4.37 4.38 4.39 4.4  4.41 4.42 4.43 4.44 4.45 4.46 4.47 4.48 4.49\n",
            " 4.5  4.51 4.52 4.53 4.54 4.55 4.56 4.57 4.58 4.59 4.6  4.61 4.62 4.63\n",
            " 4.64 4.65 4.66 4.67 4.68 4.69 4.7  4.71 4.72 4.73 4.74 4.75 4.76 4.77\n",
            " 4.78 4.79 4.8  4.81 4.82 4.83 4.84 4.85 4.86 4.87 4.88 4.89 4.9  4.91\n",
            " 4.92 4.93 4.94 4.95 4.96 4.97 4.98 4.99]\n"
          ]
        }
      ]
    },
    {
      "cell_type": "code",
      "source": [
        "def ff(x):\n",
        "  result = -x**2 + 6*x - 6\n",
        "  return result"
      ],
      "metadata": {
        "id": "0qIwyQ6aPY_q"
      },
      "execution_count": 3,
      "outputs": []
    },
    {
      "cell_type": "code",
      "source": [
        "ff(1)"
      ],
      "metadata": {
        "colab": {
          "base_uri": "https://localhost:8080/"
        },
        "id": "eLDUU48MPh5N",
        "outputId": "aac90bd0-db27-4b9f-e158-92890a4466e4"
      },
      "execution_count": 4,
      "outputs": [
        {
          "output_type": "execute_result",
          "data": {
            "text/plain": [
              "-1"
            ]
          },
          "metadata": {},
          "execution_count": 4
        }
      ]
    },
    {
      "cell_type": "code",
      "source": [
        "plt.plot(x, ff(x))\n",
        "plt.title('-x^2 + 6x - 6')"
      ],
      "metadata": {
        "colab": {
          "base_uri": "https://localhost:8080/",
          "height": 300
        },
        "id": "ejbCBcJzPi2H",
        "outputId": "9b786056-cff0-4ec7-d21e-5b38cba658f8"
      },
      "execution_count": 5,
      "outputs": [
        {
          "output_type": "execute_result",
          "data": {
            "text/plain": [
              "Text(0.5, 1.0, '-x^2 + 6x - 6')"
            ]
          },
          "metadata": {},
          "execution_count": 5
        },
        {
          "output_type": "display_data",
          "data": {
            "text/plain": [
              "<Figure size 432x288 with 1 Axes>"
            ],
            "image/png": "[encoded data removed]"
          },
          "metadata": {
            "needs_background": "light"
          }
        }
      ]
    },
    {
      "cell_type": "code",
      "source": [
        "import sympy as sp"
      ],
      "metadata": {
        "id": "rJmT8GmPPmur"
      },
      "execution_count": 6,
      "outputs": []
    },
    {
      "cell_type": "code",
      "source": [
        "x = sp.Symbol('x')\n",
        "eq = -x**2 + 6*x - 6\n",
        "diff_eq = sp.diff(eq)\n",
        "print(diff_eq)"
      ],
      "metadata": {
        "colab": {
          "base_uri": "https://localhost:8080/"
        },
        "id": "4RSlLid5P1V7",
        "outputId": "bc70b4c6-171a-4694-fb58-083fb8546eb9"
      },
      "execution_count": 7,
      "outputs": [
        {
          "output_type": "stream",
          "name": "stdout",
          "text": [
            "6 - 2*x\n"
          ]
        }
      ]
    },
    {
      "cell_type": "code",
      "source": [
        "from scipy.misc import derivative\n",
        "def f(x):\n",
        "  return -x**2 + 6*x - 6\n",
        "deriv_eq = derivative(f, 2)\n",
        "print(deriv_eq)"
      ],
      "metadata": {
        "colab": {
          "base_uri": "https://localhost:8080/"
        },
        "id": "c4drDEOmQAxn",
        "outputId": "8fee7806-ac06-41b3-a763-d7e08e4fdbed"
      },
      "execution_count": 8,
      "outputs": [
        {
          "output_type": "stream",
          "name": "stdout",
          "text": [
            "2.0\n"
          ]
        }
      ]
    },
    {
      "cell_type": "code",
      "source": [
        "eq = x**5 - (1/x) + (sp.cos(x))**2\n",
        "diff_eq = sp.diff(eq, x)\n",
        "print(diff_eq)"
      ],
      "metadata": {
        "colab": {
          "base_uri": "https://localhost:8080/"
        },
        "id": "D34Ir2O_QRRZ",
        "outputId": "cf3bb5e8-0d8c-45ca-a2b2-6ed0a64c4921"
      },
      "execution_count": 9,
      "outputs": [
        {
          "output_type": "stream",
          "name": "stdout",
          "text": [
            "5*x**4 - 2*sin(x)*cos(x) + x**(-2)\n"
          ]
        }
      ]
    },
    {
      "cell_type": "code",
      "source": [
        "x, y = sp.symbols('x y')\n",
        "f = (x*y)**5 + -1/x**2 + sp.cos(x)**x\n",
        "print(f)\n",
        "sp.diff(f, x)"
      ],
      "metadata": {
        "colab": {
          "base_uri": "https://localhost:8080/",
          "height": 77
        },
        "id": "A5lAXkTDQgfH",
        "outputId": "612ddac8-c8f6-4023-f7fe-ce118e53d9be"
      },
      "execution_count": 10,
      "outputs": [
        {
          "output_type": "stream",
          "name": "stdout",
          "text": [
            "x**5*y**5 + cos(x)**x - 1/x**2\n"
          ]
        },
        {
          "output_type": "execute_result",
          "data": {
            "text/plain": [
              "5*x**4*y**5 + (-x*sin(x)/cos(x) + log(cos(x)))*cos(x)**x + 2/x**3"
            ],
            "text/latex": "$\\displaystyle 5 x^{4} y^{5} + \\left(- \\frac{x \\sin{\\left(x \\right)}}{\\cos{\\left(x \\right)}} + \\log{\\left(\\cos{\\left(x \\right)} \\right)}\\right) \\cos^{x}{\\left(x \\right)} + \\frac{2}{x^{3}}$"
          },
          "metadata": {},
          "execution_count": 10
        }
      ]
    },
    {
      "cell_type": "code",
      "source": [
        "# fx = x**2 + 3*x (0, 10) integrate\n",
        "\n",
        "def f(x):\n",
        "  x**2 + 3*x\n",
        "\n",
        "x = sp.Symbol('x')\n",
        "fx = x**2 + 3*x \n",
        "print(fx)"
      ],
      "metadata": {
        "colab": {
          "base_uri": "https://localhost:8080/"
        },
        "id": "Uk5XJNTlQp18",
        "outputId": "073d796a-3723-4e32-93ff-4cab92601a46"
      },
      "execution_count": 11,
      "outputs": [
        {
          "output_type": "stream",
          "name": "stdout",
          "text": [
            "x**2 + 3*x\n"
          ]
        }
      ]
    },
    {
      "cell_type": "code",
      "source": [
        "inte_fx = sp.integrate(fx)\n",
        "print(inte_fx)"
      ],
      "metadata": {
        "colab": {
          "base_uri": "https://localhost:8080/"
        },
        "id": "dvDYznAVQ81k",
        "outputId": "d7fbcbdf-1536-49d6-c558-cf001dc33a06"
      },
      "execution_count": 12,
      "outputs": [
        {
          "output_type": "stream",
          "name": "stdout",
          "text": [
            "x**3/3 + 3*x**2/2\n"
          ]
        }
      ]
    },
    {
      "cell_type": "code",
      "source": [
        "(inte_fx.subs(x, 10) - inte_fx.subs(x, 0)).evalf()"
      ],
      "metadata": {
        "colab": {
          "base_uri": "https://localhost:8080/",
          "height": 37
        },
        "id": "Xfad8OZHRAEq",
        "outputId": "87d2d423-75c9-4efe-c770-c36872188849"
      },
      "execution_count": 13,
      "outputs": [
        {
          "output_type": "execute_result",
          "data": {
            "text/plain": [
              "483.333333333333"
            ],
            "text/latex": "$\\displaystyle 483.333333333333$"
          },
          "metadata": {},
          "execution_count": 13
        }
      ]
    },
    {
      "cell_type": "code",
      "source": [
        "def fx(x):\n",
        "  return x**4 - 10*(x**3) + 15*(x**2) - 6*x + 10\n",
        "\n",
        "def inte_square(a, b, n):\n",
        "  sum = 0\n",
        "  h = (b-a)/n\n",
        "\n",
        "  for i in range(1, n+1, 1):\n",
        "    sum = sum + h*fx(a + i*h)\n",
        "    \n",
        "  return sum"
      ],
      "metadata": {
        "id": "ejncaN7RRNF7"
      },
      "execution_count": 14,
      "outputs": []
    },
    {
      "cell_type": "code",
      "source": [
        "inte_square(0, 1, 100)"
      ],
      "metadata": {
        "colab": {
          "base_uri": "https://localhost:8080/"
        },
        "id": "1yg0DIiKRqyd",
        "outputId": "14043b36-c55c-4fd9-972c-85efb21764d2"
      },
      "execution_count": 15,
      "outputs": [
        {
          "output_type": "execute_result",
          "data": {
            "text/plain": [
              "9.700033332999999"
            ]
          },
          "metadata": {},
          "execution_count": 15
        }
      ]
    },
    {
      "cell_type": "code",
      "source": [
        "x = sp.Symbol('x')\n",
        "fx = x**4 - 10*(x**3) + 15*(x**2) - 6*x + 10\n",
        "inte_fx = sp.integrate(fx)\n",
        "\n",
        "(inte_fx.subs(x,1) - inte_fx.subs(x,0)).evalf()"
      ],
      "metadata": {
        "colab": {
          "base_uri": "https://localhost:8080/",
          "height": 37
        },
        "id": "G3AKjMC4RtvT",
        "outputId": "a55435c3-6500-4f9a-ceb6-d017767ebfc3"
      },
      "execution_count": 16,
      "outputs": [
        {
          "output_type": "execute_result",
          "data": {
            "text/plain": [
              "9.70000000000000"
            ],
            "text/latex": "$\\displaystyle 9.7$"
          },
          "metadata": {},
          "execution_count": 16
        }
      ]
    },
    {
      "cell_type": "code",
      "source": [
        "def f(x) : return x**2"
      ],
      "metadata": {
        "id": "iOJ5Qu6WSCAa"
      },
      "execution_count": 17,
      "outputs": []
    },
    {
      "cell_type": "code",
      "source": [
        "f(10)"
      ],
      "metadata": {
        "colab": {
          "base_uri": "https://localhost:8080/"
        },
        "id": "8NPtYEEhSHBx",
        "outputId": "08c4e57f-b882-4fac-bedb-0187e1996dbc"
      },
      "execution_count": 18,
      "outputs": [
        {
          "output_type": "execute_result",
          "data": {
            "text/plain": [
              "100"
            ]
          },
          "metadata": {},
          "execution_count": 18
        }
      ]
    },
    {
      "cell_type": "code",
      "source": [
        "a, b, c, d = [-2, 2, 0, 4]\n",
        "x = np.random.uniform(a, b, size=10000)\n",
        "print(x)\n",
        "print(len(x))\n",
        "y = np.random.uniform(c, d, size=10000)\n",
        "print(y)\n",
        "print(len(y))"
      ],
      "metadata": {
        "colab": {
          "base_uri": "https://localhost:8080/"
        },
        "id": "kJfxGPifSKBZ",
        "outputId": "9cfcc8b4-a84b-46d2-847c-99cb8d35008d"
      },
      "execution_count": 19,
      "outputs": [
        {
          "output_type": "stream",
          "name": "stdout",
          "text": [
            "[-1.00732792  0.26353408 -0.76930481 ...  0.54936204 -1.46398025\n",
            " -1.60413323]\n",
            "10000\n",
            "[0.60169079 3.1128589  0.85434317 ... 2.24496151 0.85506633 2.51820457]\n",
            "10000\n"
          ]
        }
      ]
    },
    {
      "cell_type": "code",
      "source": [
        "temp = np.sum(f(x)>y)/x.size  # 밑변의 넓이\n",
        "print(temp)\n",
        "print(temp * 16)"
      ],
      "metadata": {
        "colab": {
          "base_uri": "https://localhost:8080/"
        },
        "id": "seqVEyUCSL06",
        "outputId": "3cb53d93-000f-4fa5-a4bf-9cf6c52a0682"
      },
      "execution_count": 20,
      "outputs": [
        {
          "output_type": "stream",
          "name": "stdout",
          "text": [
            "0.3391\n",
            "5.4256\n"
          ]
        }
      ]
    }
  ]
}